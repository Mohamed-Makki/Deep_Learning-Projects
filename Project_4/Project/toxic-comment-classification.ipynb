{
 "cells": [
  {
   "cell_type": "markdown",
   "id": "1273a48f",
   "metadata": {
    "papermill": {
     "duration": 0.003735,
     "end_time": "2025-08-30T18:56:04.679951",
     "exception": false,
     "start_time": "2025-08-30T18:56:04.676216",
     "status": "completed"
    },
    "tags": []
   },
   "source": [
    "## INTRODUCTION\n",
    "* Online platforms face challenges with toxic comments that harm user experience.\n",
    "This project creates an AI system to automatically detect harmful content in\n",
    "comments, helping create safer online communities.\n",
    "\n",
    "OBJECTIVES:\n",
    "- Build an AI model to detect toxic comments automatically\n",
    "- Classify different types of harmful content\n",
    "- Create a practical tool for content moderation\n",
    "- Demonstrate AI applications in online safety\n",
    "\n",
    "* This system helps social media platforms, forums, and websites maintain\n",
    "healthy discussions by identifying problematic content before it causes harm."
   ]
  },
  {
   "cell_type": "code",
   "execution_count": 1,
   "id": "338d549d",
   "metadata": {
    "execution": {
     "iopub.execute_input": "2025-08-30T18:56:04.686656Z",
     "iopub.status.busy": "2025-08-30T18:56:04.686431Z",
     "iopub.status.idle": "2025-08-30T18:56:26.543891Z",
     "shell.execute_reply": "2025-08-30T18:56:26.543254Z"
    },
    "papermill": {
     "duration": 21.862293,
     "end_time": "2025-08-30T18:56:26.545378",
     "exception": false,
     "start_time": "2025-08-30T18:56:04.683085",
     "status": "completed"
    },
    "tags": []
   },
   "outputs": [
    {
     "name": "stderr",
     "output_type": "stream",
     "text": [
      "2025-08-30 18:56:08.472634: E external/local_xla/xla/stream_executor/cuda/cuda_fft.cc:477] Unable to register cuFFT factory: Attempting to register factory for plugin cuFFT when one has already been registered\n",
      "WARNING: All log messages before absl::InitializeLog() is called are written to STDERR\n",
      "E0000 00:00:1756580168.786289      19 cuda_dnn.cc:8310] Unable to register cuDNN factory: Attempting to register factory for plugin cuDNN when one has already been registered\n",
      "E0000 00:00:1756580168.868682      19 cuda_blas.cc:1418] Unable to register cuBLAS factory: Attempting to register factory for plugin cuBLAS when one has already been registered\n"
     ]
    }
   ],
   "source": [
    "import pandas as pd\n",
    "import numpy as np\n",
    "import matplotlib.pyplot as plt\n",
    "import tensorflow as tf\n",
    "from tensorflow.keras.layers import TextVectorization, Embedding, LSTM, Dense, Bidirectional\n",
    "from tensorflow.keras.models import Sequential\n",
    "import gradio as gr\n",
    "plt.style.use('ggplot')"
   ]
  },
  {
   "cell_type": "markdown",
   "id": "31eabf60",
   "metadata": {
    "papermill": {
     "duration": 0.002918,
     "end_time": "2025-08-30T18:56:26.551851",
     "exception": false,
     "start_time": "2025-08-30T18:56:26.548933",
     "status": "completed"
    },
    "tags": []
   },
   "source": [
    "## Load dataset"
   ]
  },
  {
   "cell_type": "code",
   "execution_count": 2,
   "id": "519b62ab",
   "metadata": {
    "execution": {
     "iopub.execute_input": "2025-08-30T18:56:26.559200Z",
     "iopub.status.busy": "2025-08-30T18:56:26.558407Z",
     "iopub.status.idle": "2025-08-30T18:56:28.594749Z",
     "shell.execute_reply": "2025-08-30T18:56:28.593866Z"
    },
    "papermill": {
     "duration": 2.041199,
     "end_time": "2025-08-30T18:56:28.595983",
     "exception": false,
     "start_time": "2025-08-30T18:56:26.554784",
     "status": "completed"
    },
    "tags": []
   },
   "outputs": [
    {
     "name": "stdout",
     "output_type": "stream",
     "text": [
      "Dataset loaded: 159,571 comments\n",
      "Toxicity categories: ['toxic', 'severe_toxic', 'obscene', 'threat', 'insult', 'identity_hate']\n"
     ]
    }
   ],
   "source": [
    "df = pd.read_csv('/kaggle/input/jigsaw-toxic-comment-classification-challenge/train.csv')\n",
    "toxicity_columns = df.columns[2:].tolist()\n",
    "\n",
    "print(f\"Dataset loaded: {df.shape[0]:,} comments\")\n",
    "print(f\"Toxicity categories: {toxicity_columns}\")"
   ]
  },
  {
   "cell_type": "markdown",
   "id": "e7e3f85a",
   "metadata": {
    "papermill": {
     "duration": 0.003732,
     "end_time": "2025-08-30T18:56:28.603020",
     "exception": false,
     "start_time": "2025-08-30T18:56:28.599288",
     "status": "completed"
    },
    "tags": []
   },
   "source": [
    "## DATA EXPLORATION"
   ]
  },
  {
   "cell_type": "code",
   "execution_count": 3,
   "id": "54180c68",
   "metadata": {
    "execution": {
     "iopub.execute_input": "2025-08-30T18:56:28.610252Z",
     "iopub.status.busy": "2025-08-30T18:56:28.609745Z",
     "iopub.status.idle": "2025-08-30T18:56:28.649006Z",
     "shell.execute_reply": "2025-08-30T18:56:28.648170Z"
    },
    "papermill": {
     "duration": 0.044001,
     "end_time": "2025-08-30T18:56:28.650158",
     "exception": false,
     "start_time": "2025-08-30T18:56:28.606157",
     "status": "completed"
    },
    "tags": []
   },
   "outputs": [
    {
     "name": "stdout",
     "output_type": "stream",
     "text": [
      "\n",
      "DATA OVERVIEW\n",
      "--------------------\n",
      "Total comments: 159,571\n",
      "Toxic comments: 16,225 (10.2%)\n",
      "Clean comments: 143,346\n",
      "\n",
      "Toxicity by category:\n",
      "• toxic: 15,294\n",
      "• severe_toxic: 1,595\n",
      "• obscene: 8,449\n",
      "• threat: 478\n",
      "• insult: 7,877\n",
      "• identity_hate: 1,405\n"
     ]
    }
   ],
   "source": [
    "def explore_data(df, toxicity_columns):\n",
    "    \"\"\"Basic data exploration\"\"\"\n",
    "    print(\"\\nDATA OVERVIEW\")\n",
    "    print(\"-\" * 20)\n",
    "    \n",
    "    # Calculate toxicity statistics\n",
    "    total_toxic = (df[toxicity_columns].sum(axis=1) > 0).sum()\n",
    "    toxic_percentage = (total_toxic / len(df)) * 100\n",
    "    \n",
    "    print(f\"Total comments: {len(df):,}\")\n",
    "    print(f\"Toxic comments: {total_toxic:,} ({toxic_percentage:.1f}%)\")\n",
    "    print(f\"Clean comments: {len(df) - total_toxic:,}\")\n",
    "    \n",
    "    # Category breakdown\n",
    "    print(f\"\\nToxicity by category:\")\n",
    "    for col in toxicity_columns:\n",
    "        count = df[col].sum()\n",
    "        print(f\"• {col}: {count:,}\")\n",
    "\n",
    "explore_data(df, toxicity_columns)"
   ]
  },
  {
   "cell_type": "markdown",
   "id": "3a15d49c",
   "metadata": {
    "papermill": {
     "duration": 0.002844,
     "end_time": "2025-08-30T18:56:28.656015",
     "exception": false,
     "start_time": "2025-08-30T18:56:28.653171",
     "status": "completed"
    },
    "tags": []
   },
   "source": [
    "## SIMPLE VISUALIZATION"
   ]
  },
  {
   "cell_type": "code",
   "execution_count": 4,
   "id": "c98ffad4",
   "metadata": {
    "execution": {
     "iopub.execute_input": "2025-08-30T18:56:28.662890Z",
     "iopub.status.busy": "2025-08-30T18:56:28.662687Z",
     "iopub.status.idle": "2025-08-30T18:56:29.049365Z",
     "shell.execute_reply": "2025-08-30T18:56:29.048704Z"
    },
    "papermill": {
     "duration": 0.391935,
     "end_time": "2025-08-30T18:56:29.051034",
     "exception": false,
     "start_time": "2025-08-30T18:56:28.659099",
     "status": "completed"
    },
    "tags": []
   },
   "outputs": [
    {
     "data": {
      "image/png": "[encoded data removed]",
      "text/plain": [
       "<Figure size 1200x500 with 2 Axes>"
      ]
     },
     "metadata": {},
     "output_type": "display_data"
    }
   ],
   "source": [
    "def create_simple_charts(df, toxicity_columns):\n",
    "    \"\"\"Create basic visualizations\"\"\"\n",
    "    \n",
    "    fig, axes = plt.subplots(1, 2, figsize=(12, 5))\n",
    "    fig.suptitle('Toxic Comment Analysis', fontsize=14, fontweight='bold')\n",
    "    \n",
    "    # 1. Overall distribution\n",
    "    total_toxic = (df[toxicity_columns].sum(axis=1) > 0).sum()\n",
    "    total_clean = len(df) - total_toxic\n",
    "    \n",
    "    axes[0].pie([total_clean, total_toxic], \n",
    "                labels=['Clean', 'Toxic'],\n",
    "                autopct='%1.1f%%', \n",
    "                colors=['lightgreen', 'lightcoral'])\n",
    "    axes[0].set_title('Comment Distribution')\n",
    "    \n",
    "    # 2. Category counts\n",
    "    category_counts = df[toxicity_columns].sum().sort_values(ascending=False)\n",
    "    axes[1].bar(range(len(category_counts)), category_counts.values, color='orange')\n",
    "    axes[1].set_title('Toxicity Categories')\n",
    "    axes[1].set_xlabel('Category')\n",
    "    axes[1].set_ylabel('Count')\n",
    "    axes[1].set_xticks(range(len(category_counts)))\n",
    "    axes[1].set_xticklabels(category_counts.index, rotation=45)\n",
    "    \n",
    "    plt.tight_layout()\n",
    "    plt.show()\n",
    "\n",
    "create_simple_charts(df, toxicity_columns)"
   ]
  },
  {
   "cell_type": "markdown",
   "id": "a38ab6e9",
   "metadata": {
    "papermill": {
     "duration": 0.003752,
     "end_time": "2025-08-30T18:56:29.059951",
     "exception": false,
     "start_time": "2025-08-30T18:56:29.056199",
     "status": "completed"
    },
    "tags": []
   },
   "source": [
    "## DATA PREPROCESSING"
   ]
  },
  {
   "cell_type": "code",
   "execution_count": 5,
   "id": "0e6fff22",
   "metadata": {
    "execution": {
     "iopub.execute_input": "2025-08-30T18:56:29.068654Z",
     "iopub.status.busy": "2025-08-30T18:56:29.068199Z",
     "iopub.status.idle": "2025-08-30T18:56:46.316006Z",
     "shell.execute_reply": "2025-08-30T18:56:46.315114Z"
    },
    "papermill": {
     "duration": 17.253438,
     "end_time": "2025-08-30T18:56:46.317138",
     "exception": false,
     "start_time": "2025-08-30T18:56:29.063700",
     "status": "completed"
    },
    "tags": []
   },
   "outputs": [
    {
     "name": "stderr",
     "output_type": "stream",
     "text": [
      "I0000 00:00:1756580190.358245      19 gpu_device.cc:2022] Created device /job:localhost/replica:0/task:0/device:GPU:0 with 13942 MB memory:  -> device: 0, name: Tesla T4, pci bus id: 0000:00:04.0, compute capability: 7.5\n",
      "I0000 00:00:1756580190.358939      19 gpu_device.cc:2022] Created device /job:localhost/replica:0/task:0/device:GPU:1 with 13942 MB memory:  -> device: 1, name: Tesla T4, pci bus id: 0000:00:05.0, compute capability: 7.5\n"
     ]
    },
    {
     "name": "stdout",
     "output_type": "stream",
     "text": [
      "Text samples processed: 159,571\n",
      "Vocabulary size: 20,000\n",
      "Training batches: 7979\n",
      "Testing batches: 1995\n"
     ]
    }
   ],
   "source": [
    "# Prepare text and labels\n",
    "X = df['comment_text'].values\n",
    "y = df[toxicity_columns].values\n",
    "\n",
    "# Setup text vectorization\n",
    "MAX_FEATURES = 20000\n",
    "vectorizer = TextVectorization(\n",
    "    max_tokens=MAX_FEATURES,\n",
    "    output_mode='int',\n",
    "    output_sequence_length=1800\n",
    ")\n",
    "\n",
    "# Fit and transform text\n",
    "vectorizer.adapt(X)\n",
    "vectorized_text = vectorizer(X)\n",
    "\n",
    "print(f\"Text samples processed: {len(X):,}\")\n",
    "print(f\"Vocabulary size: {MAX_FEATURES:,}\")\n",
    "\n",
    "# Create TensorFlow dataset\n",
    "dataset = tf.data.Dataset.from_tensor_slices((vectorized_text, y))\n",
    "dataset = dataset.batch(16).cache().prefetch(tf.data.AUTOTUNE)\n",
    "\n",
    "# Simple train/test split\n",
    "train_size = int(len(dataset) * 0.8)\n",
    "train_ds = dataset.take(train_size)\n",
    "test_ds = dataset.skip(train_size)\n",
    "\n",
    "print(f\"Training batches: {train_size}\")\n",
    "print(f\"Testing batches: {len(dataset) - train_size}\")"
   ]
  },
  {
   "cell_type": "markdown",
   "id": "c06197e8",
   "metadata": {
    "papermill": {
     "duration": 0.003788,
     "end_time": "2025-08-30T18:56:46.325162",
     "exception": false,
     "start_time": "2025-08-30T18:56:46.321374",
     "status": "completed"
    },
    "tags": []
   },
   "source": [
    "## MODEL BUILDING"
   ]
  },
  {
   "cell_type": "code",
   "execution_count": 6,
   "id": "41062913",
   "metadata": {
    "execution": {
     "iopub.execute_input": "2025-08-30T18:56:46.334054Z",
     "iopub.status.busy": "2025-08-30T18:56:46.333335Z",
     "iopub.status.idle": "2025-08-30T18:56:46.377119Z",
     "shell.execute_reply": "2025-08-30T18:56:46.376569Z"
    },
    "papermill": {
     "duration": 0.04906,
     "end_time": "2025-08-30T18:56:46.378049",
     "exception": false,
     "start_time": "2025-08-30T18:56:46.328989",
     "status": "completed"
    },
    "tags": []
   },
   "outputs": [
    {
     "name": "stdout",
     "output_type": "stream",
     "text": [
      "\n",
      "Model Architecture:\n"
     ]
    },
    {
     "data": {
      "text/html": [
       "<pre style=\"white-space:pre;overflow-x:auto;line-height:normal;font-family:Menlo,'DejaVu Sans Mono',consolas,'Courier New',monospace\"><span style=\"font-weight: bold\">Model: \"sequential\"</span>\n",
       "</pre>\n"
      ],
      "text/plain": [
       "\u001b[1mModel: \"sequential\"\u001b[0m\n"
      ]
     },
     "metadata": {},
     "output_type": "display_data"
    },
    {
     "data": {
      "text/html": [
       "<pre style=\"white-space:pre;overflow-x:auto;line-height:normal;font-family:Menlo,'DejaVu Sans Mono',consolas,'Courier New',monospace\">┏━━━━━━━━━━━━━━━━━━━━━━━━━━━━━━━━━┳━━━━━━━━━━━━━━━━━━━━━━━━┳━━━━━━━━━━━━━━━┓\n",
       "┃<span style=\"font-weight: bold\"> Layer (type)                    </span>┃<span style=\"font-weight: bold\"> Output Shape           </span>┃<span style=\"font-weight: bold\">       Param # </span>┃\n",
       "┡━━━━━━━━━━━━━━━━━━━━━━━━━━━━━━━━━╇━━━━━━━━━━━━━━━━━━━━━━━━╇━━━━━━━━━━━━━━━┩\n",
       "│ embedding (<span style=\"color: #0087ff; text-decoration-color: #0087ff\">Embedding</span>)           │ ?                      │   <span style=\"color: #00af00; text-decoration-color: #00af00\">0</span> (unbuilt) │\n",
       "├─────────────────────────────────┼────────────────────────┼───────────────┤\n",
       "│ bidirectional (<span style=\"color: #0087ff; text-decoration-color: #0087ff\">Bidirectional</span>)   │ ?                      │   <span style=\"color: #00af00; text-decoration-color: #00af00\">0</span> (unbuilt) │\n",
       "├─────────────────────────────────┼────────────────────────┼───────────────┤\n",
       "│ dense (<span style=\"color: #0087ff; text-decoration-color: #0087ff\">Dense</span>)                   │ ?                      │   <span style=\"color: #00af00; text-decoration-color: #00af00\">0</span> (unbuilt) │\n",
       "├─────────────────────────────────┼────────────────────────┼───────────────┤\n",
       "│ dense_1 (<span style=\"color: #0087ff; text-decoration-color: #0087ff\">Dense</span>)                 │ ?                      │   <span style=\"color: #00af00; text-decoration-color: #00af00\">0</span> (unbuilt) │\n",
       "└─────────────────────────────────┴────────────────────────┴───────────────┘\n",
       "</pre>\n"
      ],
      "text/plain": [
       "┏━━━━━━━━━━━━━━━━━━━━━━━━━━━━━━━━━┳━━━━━━━━━━━━━━━━━━━━━━━━┳━━━━━━━━━━━━━━━┓\n",
       "┃\u001b[1m \u001b[0m\u001b[1mLayer (type)                   \u001b[0m\u001b[1m \u001b[0m┃\u001b[1m \u001b[0m\u001b[1mOutput Shape          \u001b[0m\u001b[1m \u001b[0m┃\u001b[1m \u001b[0m\u001b[1m      Param #\u001b[0m\u001b[1m \u001b[0m┃\n",
       "┡━━━━━━━━━━━━━━━━━━━━━━━━━━━━━━━━━╇━━━━━━━━━━━━━━━━━━━━━━━━╇━━━━━━━━━━━━━━━┩\n",
       "│ embedding (\u001b[38;5;33mEmbedding\u001b[0m)           │ ?                      │   \u001b[38;5;34m0\u001b[0m (unbuilt) │\n",
       "├─────────────────────────────────┼────────────────────────┼───────────────┤\n",
       "│ bidirectional (\u001b[38;5;33mBidirectional\u001b[0m)   │ ?                      │   \u001b[38;5;34m0\u001b[0m (unbuilt) │\n",
       "├─────────────────────────────────┼────────────────────────┼───────────────┤\n",
       "│ dense (\u001b[38;5;33mDense\u001b[0m)                   │ ?                      │   \u001b[38;5;34m0\u001b[0m (unbuilt) │\n",
       "├─────────────────────────────────┼────────────────────────┼───────────────┤\n",
       "│ dense_1 (\u001b[38;5;33mDense\u001b[0m)                 │ ?                      │   \u001b[38;5;34m0\u001b[0m (unbuilt) │\n",
       "└─────────────────────────────────┴────────────────────────┴───────────────┘\n"
      ]
     },
     "metadata": {},
     "output_type": "display_data"
    },
    {
     "data": {
      "text/html": [
       "<pre style=\"white-space:pre;overflow-x:auto;line-height:normal;font-family:Menlo,'DejaVu Sans Mono',consolas,'Courier New',monospace\"><span style=\"font-weight: bold\"> Total params: </span><span style=\"color: #00af00; text-decoration-color: #00af00\">0</span> (0.00 B)\n",
       "</pre>\n"
      ],
      "text/plain": [
       "\u001b[1m Total params: \u001b[0m\u001b[38;5;34m0\u001b[0m (0.00 B)\n"
      ]
     },
     "metadata": {},
     "output_type": "display_data"
    },
    {
     "data": {
      "text/html": [
       "<pre style=\"white-space:pre;overflow-x:auto;line-height:normal;font-family:Menlo,'DejaVu Sans Mono',consolas,'Courier New',monospace\"><span style=\"font-weight: bold\"> Trainable params: </span><span style=\"color: #00af00; text-decoration-color: #00af00\">0</span> (0.00 B)\n",
       "</pre>\n"
      ],
      "text/plain": [
       "\u001b[1m Trainable params: \u001b[0m\u001b[38;5;34m0\u001b[0m (0.00 B)\n"
      ]
     },
     "metadata": {},
     "output_type": "display_data"
    },
    {
     "data": {
      "text/html": [
       "<pre style=\"white-space:pre;overflow-x:auto;line-height:normal;font-family:Menlo,'DejaVu Sans Mono',consolas,'Courier New',monospace\"><span style=\"font-weight: bold\"> Non-trainable params: </span><span style=\"color: #00af00; text-decoration-color: #00af00\">0</span> (0.00 B)\n",
       "</pre>\n"
      ],
      "text/plain": [
       "\u001b[1m Non-trainable params: \u001b[0m\u001b[38;5;34m0\u001b[0m (0.00 B)\n"
      ]
     },
     "metadata": {},
     "output_type": "display_data"
    }
   ],
   "source": [
    "def build_simple_model():\n",
    "    \"\"\"Build simple LSTM model\"\"\"\n",
    "    \n",
    "    model = Sequential([\n",
    "        Embedding(MAX_FEATURES + 1, 32),\n",
    "        Bidirectional(LSTM(32, activation='tanh')),\n",
    "        Dense(128, activation='relu'),\n",
    "        Dense(len(toxicity_columns), activation='sigmoid')\n",
    "    ])\n",
    "    \n",
    "    model.compile(\n",
    "        loss='binary_crossentropy',\n",
    "        optimizer='adam',\n",
    "        metrics=['accuracy']\n",
    "    )\n",
    "    \n",
    "    return model\n",
    "\n",
    "model = build_simple_model()\n",
    "print(\"\\nModel Architecture:\")\n",
    "model.summary()"
   ]
  },
  {
   "cell_type": "markdown",
   "id": "994a97aa",
   "metadata": {
    "papermill": {
     "duration": 0.004087,
     "end_time": "2025-08-30T18:56:46.386458",
     "exception": false,
     "start_time": "2025-08-30T18:56:46.382371",
     "status": "completed"
    },
    "tags": []
   },
   "source": [
    "## MODEL TRAINING"
   ]
  },
  {
   "cell_type": "code",
   "execution_count": 7,
   "id": "e150a504",
   "metadata": {
    "execution": {
     "iopub.execute_input": "2025-08-30T18:56:46.395846Z",
     "iopub.status.busy": "2025-08-30T18:56:46.395446Z",
     "iopub.status.idle": "2025-08-30T19:07:38.804473Z",
     "shell.execute_reply": "2025-08-30T19:07:38.803764Z"
    },
    "papermill": {
     "duration": 652.582363,
     "end_time": "2025-08-30T19:07:38.973085",
     "exception": false,
     "start_time": "2025-08-30T18:56:46.390722",
     "status": "completed"
    },
    "tags": []
   },
   "outputs": [
    {
     "name": "stderr",
     "output_type": "stream",
     "text": [
      "I0000 00:00:1756580212.766523      62 cuda_dnn.cc:529] Loaded cuDNN version 90300\n"
     ]
    },
    {
     "name": "stdout",
     "output_type": "stream",
     "text": [
      "\u001b[1m7979/7979\u001b[0m \u001b[32m━━━━━━━━━━━━━━━━━━━━\u001b[0m\u001b[37m\u001b[0m \u001b[1m652s\u001b[0m 81ms/step - accuracy: 0.9756 - loss: 0.0832 - val_accuracy: 0.9941 - val_loss: 0.0501\n",
      "Training completed!\n"
     ]
    }
   ],
   "source": [
    "# Train the model\n",
    "history = model.fit(\n",
    "    train_ds,\n",
    "    validation_data=test_ds,\n",
    "    epochs=1,\n",
    "    verbose=1\n",
    ")\n",
    "\n",
    "print(\"Training completed!\")"
   ]
  },
  {
   "cell_type": "markdown",
   "id": "6c860d49",
   "metadata": {
    "papermill": {
     "duration": 0.320135,
     "end_time": "2025-08-30T19:07:39.615933",
     "exception": false,
     "start_time": "2025-08-30T19:07:39.295798",
     "status": "completed"
    },
    "tags": []
   },
   "source": [
    "## MODEL EVALUATION"
   ]
  },
  {
   "cell_type": "code",
   "execution_count": 8,
   "id": "16bb308d",
   "metadata": {
    "execution": {
     "iopub.execute_input": "2025-08-30T19:07:40.312346Z",
     "iopub.status.busy": "2025-08-30T19:07:40.312057Z",
     "iopub.status.idle": "2025-08-30T19:08:47.657494Z",
     "shell.execute_reply": "2025-08-30T19:08:47.656729Z"
    },
    "papermill": {
     "duration": 67.869328,
     "end_time": "2025-08-30T19:08:47.859773",
     "exception": false,
     "start_time": "2025-08-30T19:07:39.990445",
     "status": "completed"
    },
    "tags": []
   },
   "outputs": [
    {
     "name": "stdout",
     "output_type": "stream",
     "text": [
      "\n",
      "MODEL PERFORMANCE\n",
      "--------------------\n",
      "Test Accuracy: 0.9941 (99.41%)\n",
      "Test Loss: 0.0501\n"
     ]
    },
    {
     "data": {
      "image/png": "[encoded data removed]",
      "text/plain": [
       "<Figure size 1000x400 with 2 Axes>"
      ]
     },
     "metadata": {},
     "output_type": "display_data"
    }
   ],
   "source": [
    "# Evaluate performance\n",
    "test_loss, test_accuracy = model.evaluate(test_ds, verbose=0)\n",
    "\n",
    "print(f\"\\nMODEL PERFORMANCE\")\n",
    "print(\"-\" * 20)\n",
    "print(f\"Test Accuracy: {test_accuracy:.4f} ({test_accuracy*100:.2f}%)\")\n",
    "print(f\"Test Loss: {test_loss:.4f}\")\n",
    "\n",
    "# Plot training history\n",
    "plt.figure(figsize=(10, 4))\n",
    "\n",
    "plt.subplot(1, 2, 1)\n",
    "plt.plot(history.history['accuracy'], label='Training', marker='o')\n",
    "plt.plot(history.history['val_accuracy'], label='Validation', marker='s')\n",
    "plt.title('Model Accuracy')\n",
    "plt.xlabel('Epoch')\n",
    "plt.ylabel('Accuracy')\n",
    "plt.legend()\n",
    "plt.grid(True)\n",
    "\n",
    "plt.subplot(1, 2, 2)\n",
    "plt.plot(history.history['loss'], label='Training', marker='o')\n",
    "plt.plot(history.history['val_loss'], label='Validation', marker='s')\n",
    "plt.title('Model Loss')\n",
    "plt.xlabel('Epoch')\n",
    "plt.ylabel('Loss')\n",
    "plt.legend()\n",
    "plt.grid(True)\n",
    "\n",
    "plt.tight_layout()\n",
    "plt.show()"
   ]
  },
  {
   "cell_type": "markdown",
   "id": "a6083222",
   "metadata": {
    "papermill": {
     "duration": 0.323278,
     "end_time": "2025-08-30T19:08:48.562869",
     "exception": false,
     "start_time": "2025-08-30T19:08:48.239591",
     "status": "completed"
    },
    "tags": []
   },
   "source": [
    "## PREDICTION SYSTEM"
   ]
  },
  {
   "cell_type": "code",
   "execution_count": 9,
   "id": "48297536",
   "metadata": {
    "execution": {
     "iopub.execute_input": "2025-08-30T19:08:49.251404Z",
     "iopub.status.busy": "2025-08-30T19:08:49.250599Z",
     "iopub.status.idle": "2025-08-30T19:08:49.256185Z",
     "shell.execute_reply": "2025-08-30T19:08:49.255460Z"
    },
    "papermill": {
     "duration": 0.37801,
     "end_time": "2025-08-30T19:08:49.257329",
     "exception": false,
     "start_time": "2025-08-30T19:08:48.879319",
     "status": "completed"
    },
    "tags": []
   },
   "outputs": [],
   "source": [
    "def score_comment(comment):\n",
    "    \"\"\"Analyze comment for toxicity\"\"\"\n",
    "    \n",
    "    # Vectorize comment\n",
    "    vectorized = vectorizer([comment])\n",
    "    \n",
    "    # Make prediction\n",
    "    predictions = model.predict(vectorized, verbose=0)[0]\n",
    "    \n",
    "    # Format results\n",
    "    result_text = \"TOXICITY ANALYSIS:\\n\" + \"=\"*20 + \"\\n\"\n",
    "    \n",
    "    # Overall assessment\n",
    "    max_score = max(predictions) * 100\n",
    "    if max_score > 70:\n",
    "        result_text += \"Status: HIGHLY TOXIC\\n\\n\"\n",
    "    elif max_score > 40:\n",
    "        result_text += \"Status: MODERATELY TOXIC\\n\\n\"\n",
    "    elif max_score > 20:\n",
    "        result_text += \"Status: POTENTIALLY PROBLEMATIC\\n\\n\"\n",
    "    else:\n",
    "        result_text += \"Status: CLEAN\\n\\n\"\n",
    "    \n",
    "    # Category scores\n",
    "    result_text += \"Category Scores:\\n\"\n",
    "    for i, category in enumerate(toxicity_columns):\n",
    "        score = predictions[i] * 100\n",
    "        result_text += f\"• {category}: {score:.1f}%\\n\"\n",
    "    \n",
    "    return result_text"
   ]
  },
  {
   "cell_type": "markdown",
   "id": "f28fbcca",
   "metadata": {
    "papermill": {
     "duration": 0.316689,
     "end_time": "2025-08-30T19:08:49.892108",
     "exception": false,
     "start_time": "2025-08-30T19:08:49.575419",
     "status": "completed"
    },
    "tags": []
   },
   "source": [
    "## TESTING EXAMPLES"
   ]
  },
  {
   "cell_type": "code",
   "execution_count": 10,
   "id": "6272176e",
   "metadata": {
    "execution": {
     "iopub.execute_input": "2025-08-30T19:08:50.579779Z",
     "iopub.status.busy": "2025-08-30T19:08:50.579083Z",
     "iopub.status.idle": "2025-08-30T19:08:51.420020Z",
     "shell.execute_reply": "2025-08-30T19:08:51.419174Z"
    },
    "papermill": {
     "duration": 1.210429,
     "end_time": "2025-08-30T19:08:51.421238",
     "exception": false,
     "start_time": "2025-08-30T19:08:50.210809",
     "status": "completed"
    },
    "tags": []
   },
   "outputs": [
    {
     "name": "stdout",
     "output_type": "stream",
     "text": [
      "\n",
      "1. Comment: \"This is a great article, thanks for sharing!\"\n",
      "   Result: CLEAN (Score: 0.8%)\n",
      "\n",
      "2. Comment: \"You are completely stupid and worthless!\"\n",
      "   Result: TOXIC (Score: 96.1%)\n",
      "\n",
      "3. Comment: \"I disagree but respect your opinion.\"\n",
      "   Result: CLEAN (Score: 0.5%)\n",
      "\n",
      "4. Comment: \"I hate this and everyone here!\"\n",
      "   Result: CLEAN (Score: 45.3%)\n"
     ]
    }
   ],
   "source": [
    "test_comments = [\n",
    "    \"This is a great article, thanks for sharing!\",\n",
    "    \"You are completely stupid and worthless!\",\n",
    "    \"I disagree but respect your opinion.\",\n",
    "    \"I hate this and everyone here!\"\n",
    "]\n",
    "\n",
    "for i, comment in enumerate(test_comments, 1):\n",
    "    vectorized = vectorizer([comment])\n",
    "    prediction = model.predict(vectorized, verbose=0)[0]\n",
    "    max_toxicity = max(prediction) * 100\n",
    "    \n",
    "    status = \"TOXIC\" if max_toxicity > 50 else \"CLEAN\"\n",
    "    \n",
    "    print(f\"\\n{i}. Comment: \\\"{comment}\\\"\")\n",
    "    print(f\"   Result: {status} (Score: {max_toxicity:.1f}%)\")"
   ]
  },
  {
   "cell_type": "markdown",
   "id": "ba43d6a8",
   "metadata": {
    "papermill": {
     "duration": 0.31948,
     "end_time": "2025-08-30T19:08:52.060981",
     "exception": false,
     "start_time": "2025-08-30T19:08:51.741501",
     "status": "completed"
    },
    "tags": []
   },
   "source": [
    "## INTERACTIVE INTERFACE"
   ]
  },
  {
   "cell_type": "code",
   "execution_count": 11,
   "id": "7c1d5b4e",
   "metadata": {
    "execution": {
     "iopub.execute_input": "2025-08-30T19:08:52.751153Z",
     "iopub.status.busy": "2025-08-30T19:08:52.750839Z",
     "iopub.status.idle": "2025-08-30T19:08:52.960697Z",
     "shell.execute_reply": "2025-08-30T19:08:52.959879Z"
    },
    "papermill": {
     "duration": 0.53574,
     "end_time": "2025-08-30T19:08:52.961950",
     "exception": false,
     "start_time": "2025-08-30T19:08:52.426210",
     "status": "completed"
    },
    "tags": []
   },
   "outputs": [
    {
     "name": "stdout",
     "output_type": "stream",
     "text": [
      "Web interface ready\n",
      "Model saved\n"
     ]
    }
   ],
   "source": [
    "# Create Gradio interface\n",
    "interface = gr.Interface(\n",
    "    fn=score_comment,\n",
    "    inputs=gr.Textbox(\n",
    "        lines=3,\n",
    "        placeholder=\"Enter a comment to analyze...\",\n",
    "        label=\"Comment Text\"\n",
    "    ),\n",
    "    outputs=gr.Textbox(label=\"Analysis Results\"),\n",
    "    title=\"Toxic Comment Detector\",\n",
    "    description=\"AI system to detect harmful content in comments\"\n",
    ")\n",
    "\n",
    "print(\"Web interface ready\")\n",
    "\n",
    "# Save model\n",
    "model.save('toxicity_model.h5')\n",
    "print(\"Model saved\")\n",
    "\n",
    "# Launch interface (uncomment to run)\n",
    "# interface.launch()"
   ]
  },
  {
   "cell_type": "markdown",
   "id": "9ca06ef8",
   "metadata": {
    "papermill": {
     "duration": 0.333874,
     "end_time": "2025-08-30T19:08:53.624825",
     "exception": false,
     "start_time": "2025-08-30T19:08:53.290951",
     "status": "completed"
    },
    "tags": []
   },
   "source": [
    "## CONCLUSION\n",
    "* This toxic comment classification project successfully demonstrates AI-powered\n",
    "content moderation for online safety:\n",
    "\n",
    "##### ACHIEVEMENTS:\n",
    "- Built a working AI system for toxicity detection\n",
    "- Achieved {test_accuracy:.2%} accuracy on multi-label classification\n",
    "- Created an interactive web interface for real-time testing\n",
    "- Developed a practical tool for content moderation\n",
    "\n",
    "##### BUSINESS APPLICATIONS:\n",
    "- Social media platforms: Automatic content filtering\n",
    "- Online forums: Community safety and moderation\n",
    "- Educational sites: Safe learning environments  \n",
    "- Customer service: Quality communication monitoring\n",
    "\n",
    "##### IMPACT:\n",
    "* This technology helps create safer online spaces by automatically identifying\n",
    "harmful content, allowing human moderators to focus on complex cases while\n",
    "protecting users from toxic interactions.\n",
    "\n",
    "##### The system demonstrates how AI can be used to promote positive digital communication and build healthier online communities."
   ]
  }
 ],
 "metadata": {
  "kaggle": {
   "accelerator": "nvidiaTeslaT4",
   "dataSources": [
    {
     "datasetId": 1709138,
     "sourceId": 2798066,
     "sourceType": "datasetVersion"
    }
   ],
   "dockerImageVersionId": 31090,
   "isGpuEnabled": true,
   "isInternetEnabled": true,
   "language": "python",
   "sourceType": "notebook"
  },
  "kernelspec": {
   "display_name": "Python 3",
   "language": "python",
   "name": "python3"
  },
  "language_info": {
   "codemirror_mode": {
    "name": "ipython",
    "version": 3
   },
   "file_extension": ".py",
   "mimetype": "text/x-python",
   "name": "python",
   "nbconvert_exporter": "python",
   "pygments_lexer": "ipython3",
   "version": "3.11.13"
  },
  "papermill": {
   "default_parameters": {},
   "duration": 778.862468,
   "end_time": "2025-08-30T19:08:58.917926",
   "environment_variables": {},
   "exception": null,
   "input_path": "__notebook__.ipynb",
   "output_path": "__notebook__.ipynb",
   "parameters": {},
   "start_time": "2025-08-30T18:56:00.055458",
   "version": "2.6.0"
  }
 },
 "nbformat": 4,
 "nbformat_minor": 5
}
