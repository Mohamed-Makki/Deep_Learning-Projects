{
 "cells": [
  {
   "cell_type": "markdown",
   "id": "24e23781",
   "metadata": {
    "papermill": {
     "duration": 0.003816,
     "end_time": "2025-08-30T05:33:02.988474",
     "exception": false,
     "start_time": "2025-08-30T05:33:02.984658",
     "status": "completed"
    },
    "tags": []
   },
   "source": [
    "## INTRODUCTION\n",
    "* Movie reviews on platforms like IMDB contain valuable insights about audience opinions. This project uses deep learning to automatically classify movie reviews as positive  or negative, helping understand customer sentiment.\n",
    "\n",
    "#### OBJECTIVES:\n",
    "- Build an LSTM neural network to classify movie review sentiments\n",
    "- Achieve high accuracy in distinguishing positive from negative reviews  \n",
    "- Create a practical tool for real-time sentiment prediction\n",
    "- Demonstrate the power of AI in understanding human emotions through text\n",
    "\n",
    "* This analysis shows how artificial intelligence can automatically understand human opinions and emotions expressed in natural language, with practical applications in entertainment and marketing industries."
   ]
  },
  {
   "cell_type": "markdown",
   "id": "15681c9b",
   "metadata": {
    "papermill": {
     "duration": 0.00259,
     "end_time": "2025-08-30T05:33:02.994083",
     "exception": false,
     "start_time": "2025-08-30T05:33:02.991493",
     "status": "completed"
    },
    "tags": []
   },
   "source": [
    "## LIBRARIES AND DATA LOADING"
   ]
  },
  {
   "cell_type": "code",
   "execution_count": 1,
   "id": "ff33d64f",
   "metadata": {
    "execution": {
     "iopub.execute_input": "2025-08-30T05:33:03.001018Z",
     "iopub.status.busy": "2025-08-30T05:33:03.000455Z",
     "iopub.status.idle": "2025-08-30T05:33:18.528112Z",
     "shell.execute_reply": "2025-08-30T05:33:18.527233Z"
    },
    "papermill": {
     "duration": 15.53271,
     "end_time": "2025-08-30T05:33:18.529668",
     "exception": false,
     "start_time": "2025-08-30T05:33:02.996958",
     "status": "completed"
    },
    "tags": []
   },
   "outputs": [
    {
     "name": "stderr",
     "output_type": "stream",
     "text": [
      "2025-08-30 05:33:07.608387: E external/local_xla/xla/stream_executor/cuda/cuda_fft.cc:477] Unable to register cuFFT factory: Attempting to register factory for plugin cuFFT when one has already been registered\n",
      "WARNING: All log messages before absl::InitializeLog() is called are written to STDERR\n",
      "E0000 00:00:1756531987.819883      19 cuda_dnn.cc:8310] Unable to register cuDNN factory: Attempting to register factory for plugin cuDNN when one has already been registered\n",
      "E0000 00:00:1756531987.877230      19 cuda_blas.cc:1418] Unable to register cuBLAS factory: Attempting to register factory for plugin cuBLAS when one has already been registered\n"
     ]
    }
   ],
   "source": [
    "import numpy as np\n",
    "import pandas as pd\n",
    "import matplotlib.pyplot as plt\n",
    "import seaborn as sns\n",
    "from sklearn.model_selection import train_test_split\n",
    "from tensorflow.keras.preprocessing.sequence import pad_sequences\n",
    "from tensorflow.keras.preprocessing.text import Tokenizer\n",
    "from tensorflow.keras.models import Sequential\n",
    "from tensorflow.keras.layers import Embedding, LSTM, Dense, Dropout"
   ]
  },
  {
   "cell_type": "markdown",
   "id": "6c5f3318",
   "metadata": {
    "papermill": {
     "duration": 0.002888,
     "end_time": "2025-08-30T05:33:18.535836",
     "exception": false,
     "start_time": "2025-08-30T05:33:18.532948",
     "status": "completed"
    },
    "tags": []
   },
   "source": [
    "## Load IMDB dataset"
   ]
  },
  {
   "cell_type": "code",
   "execution_count": 2,
   "id": "dd26e03c",
   "metadata": {
    "execution": {
     "iopub.execute_input": "2025-08-30T05:33:18.542925Z",
     "iopub.status.busy": "2025-08-30T05:33:18.542261Z",
     "iopub.status.idle": "2025-08-30T05:33:19.756647Z",
     "shell.execute_reply": "2025-08-30T05:33:19.755674Z"
    },
    "papermill": {
     "duration": 1.21922,
     "end_time": "2025-08-30T05:33:19.757931",
     "exception": false,
     "start_time": "2025-08-30T05:33:18.538711",
     "status": "completed"
    },
    "tags": []
   },
   "outputs": [
    {
     "name": "stdout",
     "output_type": "stream",
     "text": [
      "Dataset loaded: 50,000 reviews\n",
      "Columns: ['review', 'sentiment']\n"
     ]
    }
   ],
   "source": [
    "data = pd.read_csv(\"/kaggle/input/imdb-dataset-of-50k-movie-reviews/IMDB Dataset.csv\", encoding='latin-1')\n",
    "\n",
    "print(f\"Dataset loaded: {data.shape[0]:,} reviews\")\n",
    "print(f\"Columns: {list(data.columns)}\")"
   ]
  },
  {
   "cell_type": "markdown",
   "id": "d20345b5",
   "metadata": {
    "papermill": {
     "duration": 0.002859,
     "end_time": "2025-08-30T05:33:19.763913",
     "exception": false,
     "start_time": "2025-08-30T05:33:19.761054",
     "status": "completed"
    },
    "tags": []
   },
   "source": [
    "## DATA EXPLORATION"
   ]
  },
  {
   "cell_type": "code",
   "execution_count": 3,
   "id": "8a865e37",
   "metadata": {
    "execution": {
     "iopub.execute_input": "2025-08-30T05:33:19.770466Z",
     "iopub.status.busy": "2025-08-30T05:33:19.770214Z",
     "iopub.status.idle": "2025-08-30T05:33:21.367841Z",
     "shell.execute_reply": "2025-08-30T05:33:21.366940Z"
    },
    "papermill": {
     "duration": 1.602415,
     "end_time": "2025-08-30T05:33:21.369125",
     "exception": false,
     "start_time": "2025-08-30T05:33:19.766710",
     "status": "completed"
    },
    "tags": []
   },
   "outputs": [
    {
     "name": "stdout",
     "output_type": "stream",
     "text": [
      "\n",
      "DATA OVERVIEW\n",
      "------------------------------\n",
      "Sentiment Distribution:\n",
      "• positive: 25,000 (50.0%)\n",
      "• negative: 25,000 (50.0%)\n",
      "\n",
      "Average words per review: 231\n",
      "Longest review: 2470 words\n"
     ]
    }
   ],
   "source": [
    "def explore_data(data):\n",
    "    \"\"\"Basic data exploration\"\"\"\n",
    "    print(\"\\nDATA OVERVIEW\")\n",
    "    print(\"-\" * 30)\n",
    "    \n",
    "    # Sentiment distribution\n",
    "    sentiment_counts = data['sentiment'].value_counts()\n",
    "    print(\"Sentiment Distribution:\")\n",
    "    for sentiment, count in sentiment_counts.items():\n",
    "        print(f\"• {sentiment}: {count:,} ({count/len(data)*100:.1f}%)\")\n",
    "    \n",
    "    # Text statistics\n",
    "    data['word_count'] = data['review'].str.split().str.len()\n",
    "    print(f\"\\nAverage words per review: {data['word_count'].mean():.0f}\")\n",
    "    print(f\"Longest review: {data['word_count'].max()} words\")\n",
    "\n",
    "explore_data(data)"
   ]
  },
  {
   "cell_type": "code",
   "execution_count": 4,
   "id": "e6b0b414",
   "metadata": {
    "execution": {
     "iopub.execute_input": "2025-08-30T05:33:21.376194Z",
     "iopub.status.busy": "2025-08-30T05:33:21.375968Z",
     "iopub.status.idle": "2025-08-30T05:33:21.396964Z",
     "shell.execute_reply": "2025-08-30T05:33:21.396317Z"
    },
    "papermill": {
     "duration": 0.025623,
     "end_time": "2025-08-30T05:33:21.397966",
     "exception": false,
     "start_time": "2025-08-30T05:33:21.372343",
     "status": "completed"
    },
    "tags": []
   },
   "outputs": [
    {
     "name": "stdout",
     "output_type": "stream",
     "text": [
      "Positive: One of the other reviewers has mentioned that after watching just 1 Oz episode you'll be hooked. The...\n",
      "Negative: Basically there's a family where a little boy (Jake) thinks there's a zombie in his closet & his par...\n"
     ]
    }
   ],
   "source": [
    "print(\"Positive:\", data[data['sentiment']=='positive']['review'].iloc[0][:100] + \"...\")\n",
    "print(\"Negative:\", data[data['sentiment']=='negative']['review'].iloc[0][:100] + \"...\")"
   ]
  },
  {
   "cell_type": "markdown",
   "id": "932182df",
   "metadata": {
    "papermill": {
     "duration": 0.003007,
     "end_time": "2025-08-30T05:33:21.404069",
     "exception": false,
     "start_time": "2025-08-30T05:33:21.401062",
     "status": "completed"
    },
    "tags": []
   },
   "source": [
    "## DATA PREPROCESSING"
   ]
  },
  {
   "cell_type": "code",
   "execution_count": 5,
   "id": "c429f17e",
   "metadata": {
    "execution": {
     "iopub.execute_input": "2025-08-30T05:33:21.412076Z",
     "iopub.status.busy": "2025-08-30T05:33:21.411397Z",
     "iopub.status.idle": "2025-08-30T05:33:31.413811Z",
     "shell.execute_reply": "2025-08-30T05:33:31.413018Z"
    },
    "papermill": {
     "duration": 10.007988,
     "end_time": "2025-08-30T05:33:31.414984",
     "exception": false,
     "start_time": "2025-08-30T05:33:21.406996",
     "status": "completed"
    },
    "tags": []
   },
   "outputs": [
    {
     "name": "stderr",
     "output_type": "stream",
     "text": [
      "/tmp/ipykernel_19/557827342.py:2: FutureWarning: Downcasting behavior in `replace` is deprecated and will be removed in a future version. To retain the old behavior, explicitly call `result.infer_objects(copy=False)`. To opt-in to the future behavior, set `pd.set_option('future.no_silent_downcasting', True)`\n",
      "  data.replace({'sentiment': {'positive': 1, 'negative': 0}}, inplace=True)\n"
     ]
    },
    {
     "name": "stdout",
     "output_type": "stream",
     "text": [
      "\n",
      "Data prepared:\n",
      "Training samples: 40,000\n",
      "Testing samples: 10,000\n"
     ]
    }
   ],
   "source": [
    "# Convert labels to binary\n",
    "data.replace({'sentiment': {'positive': 1, 'negative': 0}}, inplace=True)\n",
    "\n",
    "# Split data\n",
    "train_data, test_data = train_test_split(data, test_size=0.2, random_state=42)\n",
    "\n",
    "# Create and fit tokenizer\n",
    "tokenizer = Tokenizer(num_words=5000)\n",
    "tokenizer.fit_on_texts(train_data['review'])\n",
    "\n",
    "# Convert texts to sequences and pad them\n",
    "X_train = pad_sequences(tokenizer.texts_to_sequences(train_data['review']), maxlen=200)\n",
    "X_test = pad_sequences(tokenizer.texts_to_sequences(test_data['review']), maxlen=200)\n",
    "\n",
    "y_train = train_data['sentiment'].values\n",
    "y_test = test_data['sentiment'].values\n",
    "\n",
    "print(f\"\\nData prepared:\")\n",
    "print(f\"Training samples: {len(X_train):,}\")\n",
    "print(f\"Testing samples: {len(X_test):,}\")"
   ]
  },
  {
   "cell_type": "markdown",
   "id": "cc82e871",
   "metadata": {
    "papermill": {
     "duration": 0.00297,
     "end_time": "2025-08-30T05:33:31.422626",
     "exception": false,
     "start_time": "2025-08-30T05:33:31.419656",
     "status": "completed"
    },
    "tags": []
   },
   "source": [
    "## VISUALIZATIONS"
   ]
  },
  {
   "cell_type": "code",
   "execution_count": 6,
   "id": "1fade303",
   "metadata": {
    "execution": {
     "iopub.execute_input": "2025-08-30T05:33:31.430008Z",
     "iopub.status.busy": "2025-08-30T05:33:31.429397Z",
     "iopub.status.idle": "2025-08-30T05:33:31.841293Z",
     "shell.execute_reply": "2025-08-30T05:33:31.840554Z"
    },
    "papermill": {
     "duration": 0.416889,
     "end_time": "2025-08-30T05:33:31.842644",
     "exception": false,
     "start_time": "2025-08-30T05:33:31.425755",
     "status": "completed"
    },
    "tags": []
   },
   "outputs": [
    {
     "data": {
      "image/png": "[encoded data removed]",
      "text/plain": [
       "<Figure size 1200x500 with 2 Axes>"
      ]
     },
     "metadata": {},
     "output_type": "display_data"
    }
   ],
   "source": [
    "def create_data_visualizations(data):\n",
    "    \"\"\"Create simple visualizations\"\"\"\n",
    "    \n",
    "    fig, axes = plt.subplots(1, 2, figsize=(12, 5))\n",
    "    fig.suptitle('IMDB Dataset Analysis', fontsize=14, fontweight='bold')\n",
    "    \n",
    "    # Sentiment distribution\n",
    "    sentiment_counts = data['sentiment'].value_counts()\n",
    "    colors = ['lightcoral', 'lightgreen']\n",
    "    axes[0].pie(sentiment_counts.values, labels=['Negative', 'Positive'], \n",
    "                autopct='%1.1f%%', colors=colors)\n",
    "    axes[0].set_title('Sentiment Distribution')\n",
    "    \n",
    "    # Word count distribution\n",
    "    axes[1].hist(data['word_count'], bins=30, alpha=0.7, color='skyblue')\n",
    "    axes[1].set_title('Review Length Distribution')\n",
    "    axes[1].set_xlabel('Word Count')\n",
    "    axes[1].set_ylabel('Frequency')\n",
    "    axes[1].axvline(data['word_count'].mean(), color='red', linestyle='--',\n",
    "                    label=f'Mean: {data[\"word_count\"].mean():.0f}')\n",
    "    axes[1].legend()\n",
    "    \n",
    "    plt.tight_layout()\n",
    "    plt.show()\n",
    "\n",
    "create_data_visualizations(data)"
   ]
  },
  {
   "cell_type": "markdown",
   "id": "f18459ef",
   "metadata": {
    "papermill": {
     "duration": 0.003549,
     "end_time": "2025-08-30T05:33:31.850266",
     "exception": false,
     "start_time": "2025-08-30T05:33:31.846717",
     "status": "completed"
    },
    "tags": []
   },
   "source": [
    "## MODEL BUILDING"
   ]
  },
  {
   "cell_type": "code",
   "execution_count": 7,
   "id": "3e02b075",
   "metadata": {
    "execution": {
     "iopub.execute_input": "2025-08-30T05:33:31.858980Z",
     "iopub.status.busy": "2025-08-30T05:33:31.858237Z",
     "iopub.status.idle": "2025-08-30T05:33:32.968640Z",
     "shell.execute_reply": "2025-08-30T05:33:32.968079Z"
    },
    "papermill": {
     "duration": 1.115815,
     "end_time": "2025-08-30T05:33:32.969714",
     "exception": false,
     "start_time": "2025-08-30T05:33:31.853899",
     "status": "completed"
    },
    "tags": []
   },
   "outputs": [
    {
     "name": "stderr",
     "output_type": "stream",
     "text": [
      "/usr/local/lib/python3.11/dist-packages/keras/src/layers/core/embedding.py:90: UserWarning: Argument `input_length` is deprecated. Just remove it.\n",
      "  warnings.warn(\n"
     ]
    },
    {
     "name": "stdout",
     "output_type": "stream",
     "text": [
      "\n",
      "Model Architecture:\n",
      "------------------------------\n"
     ]
    },
    {
     "name": "stderr",
     "output_type": "stream",
     "text": [
      "I0000 00:00:1756532012.905617      19 gpu_device.cc:2022] Created device /job:localhost/replica:0/task:0/device:GPU:0 with 13942 MB memory:  -> device: 0, name: Tesla T4, pci bus id: 0000:00:04.0, compute capability: 7.5\n",
      "I0000 00:00:1756532012.906231      19 gpu_device.cc:2022] Created device /job:localhost/replica:0/task:0/device:GPU:1 with 13942 MB memory:  -> device: 1, name: Tesla T4, pci bus id: 0000:00:05.0, compute capability: 7.5\n"
     ]
    },
    {
     "data": {
      "text/html": [
       "<pre style=\"white-space:pre;overflow-x:auto;line-height:normal;font-family:Menlo,'DejaVu Sans Mono',consolas,'Courier New',monospace\"><span style=\"font-weight: bold\">Model: \"sequential\"</span>\n",
       "</pre>\n"
      ],
      "text/plain": [
       "\u001b[1mModel: \"sequential\"\u001b[0m\n"
      ]
     },
     "metadata": {},
     "output_type": "display_data"
    },
    {
     "data": {
      "text/html": [
       "<pre style=\"white-space:pre;overflow-x:auto;line-height:normal;font-family:Menlo,'DejaVu Sans Mono',consolas,'Courier New',monospace\">┏━━━━━━━━━━━━━━━━━━━━━━━━━━━━━━━━━┳━━━━━━━━━━━━━━━━━━━━━━━━┳━━━━━━━━━━━━━━━┓\n",
       "┃<span style=\"font-weight: bold\"> Layer (type)                    </span>┃<span style=\"font-weight: bold\"> Output Shape           </span>┃<span style=\"font-weight: bold\">       Param # </span>┃\n",
       "┡━━━━━━━━━━━━━━━━━━━━━━━━━━━━━━━━━╇━━━━━━━━━━━━━━━━━━━━━━━━╇━━━━━━━━━━━━━━━┩\n",
       "│ embedding (<span style=\"color: #0087ff; text-decoration-color: #0087ff\">Embedding</span>)           │ ?                      │   <span style=\"color: #00af00; text-decoration-color: #00af00\">0</span> (unbuilt) │\n",
       "├─────────────────────────────────┼────────────────────────┼───────────────┤\n",
       "│ lstm (<span style=\"color: #0087ff; text-decoration-color: #0087ff\">LSTM</span>)                     │ ?                      │   <span style=\"color: #00af00; text-decoration-color: #00af00\">0</span> (unbuilt) │\n",
       "├─────────────────────────────────┼────────────────────────┼───────────────┤\n",
       "│ dense (<span style=\"color: #0087ff; text-decoration-color: #0087ff\">Dense</span>)                   │ ?                      │   <span style=\"color: #00af00; text-decoration-color: #00af00\">0</span> (unbuilt) │\n",
       "└─────────────────────────────────┴────────────────────────┴───────────────┘\n",
       "</pre>\n"
      ],
      "text/plain": [
       "┏━━━━━━━━━━━━━━━━━━━━━━━━━━━━━━━━━┳━━━━━━━━━━━━━━━━━━━━━━━━┳━━━━━━━━━━━━━━━┓\n",
       "┃\u001b[1m \u001b[0m\u001b[1mLayer (type)                   \u001b[0m\u001b[1m \u001b[0m┃\u001b[1m \u001b[0m\u001b[1mOutput Shape          \u001b[0m\u001b[1m \u001b[0m┃\u001b[1m \u001b[0m\u001b[1m      Param #\u001b[0m\u001b[1m \u001b[0m┃\n",
       "┡━━━━━━━━━━━━━━━━━━━━━━━━━━━━━━━━━╇━━━━━━━━━━━━━━━━━━━━━━━━╇━━━━━━━━━━━━━━━┩\n",
       "│ embedding (\u001b[38;5;33mEmbedding\u001b[0m)           │ ?                      │   \u001b[38;5;34m0\u001b[0m (unbuilt) │\n",
       "├─────────────────────────────────┼────────────────────────┼───────────────┤\n",
       "│ lstm (\u001b[38;5;33mLSTM\u001b[0m)                     │ ?                      │   \u001b[38;5;34m0\u001b[0m (unbuilt) │\n",
       "├─────────────────────────────────┼────────────────────────┼───────────────┤\n",
       "│ dense (\u001b[38;5;33mDense\u001b[0m)                   │ ?                      │   \u001b[38;5;34m0\u001b[0m (unbuilt) │\n",
       "└─────────────────────────────────┴────────────────────────┴───────────────┘\n"
      ]
     },
     "metadata": {},
     "output_type": "display_data"
    },
    {
     "data": {
      "text/html": [
       "<pre style=\"white-space:pre;overflow-x:auto;line-height:normal;font-family:Menlo,'DejaVu Sans Mono',consolas,'Courier New',monospace\"><span style=\"font-weight: bold\"> Total params: </span><span style=\"color: #00af00; text-decoration-color: #00af00\">0</span> (0.00 B)\n",
       "</pre>\n"
      ],
      "text/plain": [
       "\u001b[1m Total params: \u001b[0m\u001b[38;5;34m0\u001b[0m (0.00 B)\n"
      ]
     },
     "metadata": {},
     "output_type": "display_data"
    },
    {
     "data": {
      "text/html": [
       "<pre style=\"white-space:pre;overflow-x:auto;line-height:normal;font-family:Menlo,'DejaVu Sans Mono',consolas,'Courier New',monospace\"><span style=\"font-weight: bold\"> Trainable params: </span><span style=\"color: #00af00; text-decoration-color: #00af00\">0</span> (0.00 B)\n",
       "</pre>\n"
      ],
      "text/plain": [
       "\u001b[1m Trainable params: \u001b[0m\u001b[38;5;34m0\u001b[0m (0.00 B)\n"
      ]
     },
     "metadata": {},
     "output_type": "display_data"
    },
    {
     "data": {
      "text/html": [
       "<pre style=\"white-space:pre;overflow-x:auto;line-height:normal;font-family:Menlo,'DejaVu Sans Mono',consolas,'Courier New',monospace\"><span style=\"font-weight: bold\"> Non-trainable params: </span><span style=\"color: #00af00; text-decoration-color: #00af00\">0</span> (0.00 B)\n",
       "</pre>\n"
      ],
      "text/plain": [
       "\u001b[1m Non-trainable params: \u001b[0m\u001b[38;5;34m0\u001b[0m (0.00 B)\n"
      ]
     },
     "metadata": {},
     "output_type": "display_data"
    }
   ],
   "source": [
    "def build_lstm_model():\n",
    "    \"\"\"Build simple LSTM model\"\"\"\n",
    "    model = Sequential([\n",
    "        Embedding(input_dim=5000, output_dim=128, input_length=200),\n",
    "        LSTM(units=128, dropout=0.2, recurrent_dropout=0.2),\n",
    "        Dense(1, activation='sigmoid')\n",
    "    ])\n",
    "    \n",
    "    model.compile(optimizer='adam', loss='binary_crossentropy', metrics=['accuracy'])\n",
    "    return model\n",
    "\n",
    "# Create model\n",
    "model = build_lstm_model()\n",
    "print(\"\\nModel Architecture:\")\n",
    "print(\"-\" * 30)\n",
    "model.summary()"
   ]
  },
  {
   "cell_type": "markdown",
   "id": "2eb8dc3f",
   "metadata": {
    "papermill": {
     "duration": 0.004384,
     "end_time": "2025-08-30T05:33:32.978632",
     "exception": false,
     "start_time": "2025-08-30T05:33:32.974248",
     "status": "completed"
    },
    "tags": []
   },
   "source": [
    "## MODEL TRAINING"
   ]
  },
  {
   "cell_type": "code",
   "execution_count": 8,
   "id": "b0be8480",
   "metadata": {
    "execution": {
     "iopub.execute_input": "2025-08-30T05:33:32.988935Z",
     "iopub.status.busy": "2025-08-30T05:33:32.988189Z",
     "iopub.status.idle": "2025-08-30T05:44:20.504149Z",
     "shell.execute_reply": "2025-08-30T05:44:20.503341Z"
    },
    "papermill": {
     "duration": 647.59718,
     "end_time": "2025-08-30T05:44:20.580261",
     "exception": false,
     "start_time": "2025-08-30T05:33:32.983081",
     "status": "completed"
    },
    "tags": []
   },
   "outputs": [
    {
     "name": "stdout",
     "output_type": "stream",
     "text": [
      "\n",
      "Training Model...\n",
      "------------------------------\n",
      "Epoch 1/3\n",
      "\u001b[1m625/625\u001b[0m \u001b[32m━━━━━━━━━━━━━━━━━━━━\u001b[0m\u001b[37m\u001b[0m \u001b[1m222s\u001b[0m 343ms/step - accuracy: 0.7328 - loss: 0.5196 - val_accuracy: 0.8230 - val_loss: 0.4126\n",
      "Epoch 2/3\n",
      "\u001b[1m625/625\u001b[0m \u001b[32m━━━━━━━━━━━━━━━━━━━━\u001b[0m\u001b[37m\u001b[0m \u001b[1m212s\u001b[0m 340ms/step - accuracy: 0.8590 - loss: 0.3437 - val_accuracy: 0.8305 - val_loss: 0.3919\n",
      "Epoch 3/3\n",
      "\u001b[1m625/625\u001b[0m \u001b[32m━━━━━━━━━━━━━━━━━━━━\u001b[0m\u001b[37m\u001b[0m \u001b[1m213s\u001b[0m 341ms/step - accuracy: 0.8858 - loss: 0.2877 - val_accuracy: 0.8205 - val_loss: 0.3978\n",
      "Training completed!\n"
     ]
    }
   ],
   "source": [
    "print(\"\\nTraining Model...\")\n",
    "print(\"-\" * 30)\n",
    "\n",
    "# Train the model\n",
    "history = model.fit(\n",
    "    X_train, y_train,\n",
    "    validation_data=(X_test, y_test),\n",
    "    epochs=3,\n",
    "    batch_size=64,\n",
    "    verbose=1\n",
    ")\n",
    "\n",
    "print(\"Training completed!\")"
   ]
  },
  {
   "cell_type": "markdown",
   "id": "3876e4df",
   "metadata": {
    "papermill": {
     "duration": 0.07909,
     "end_time": "2025-08-30T05:44:20.738596",
     "exception": false,
     "start_time": "2025-08-30T05:44:20.659506",
     "status": "completed"
    },
    "tags": []
   },
   "source": [
    "## MODEL EVALUATION"
   ]
  },
  {
   "cell_type": "code",
   "execution_count": 9,
   "id": "e3aacd54",
   "metadata": {
    "execution": {
     "iopub.execute_input": "2025-08-30T05:44:20.897050Z",
     "iopub.status.busy": "2025-08-30T05:44:20.896761Z",
     "iopub.status.idle": "2025-08-30T05:44:52.803009Z",
     "shell.execute_reply": "2025-08-30T05:44:52.802259Z"
    },
    "papermill": {
     "duration": 31.987621,
     "end_time": "2025-08-30T05:44:52.804192",
     "exception": false,
     "start_time": "2025-08-30T05:44:20.816571",
     "status": "completed"
    },
    "tags": []
   },
   "outputs": [
    {
     "name": "stdout",
     "output_type": "stream",
     "text": [
      "\n",
      "MODEL PERFORMANCE\n",
      "------------------------------\n",
      "Test Accuracy: 0.8205 (82.05%)\n",
      "Test Loss: 0.3978\n"
     ]
    },
    {
     "data": {
      "image/png": "[encoded data removed]",
      "text/plain": [
       "<Figure size 1200x400 with 2 Axes>"
      ]
     },
     "metadata": {},
     "output_type": "display_data"
    }
   ],
   "source": [
    "def evaluate_model(model, X_test, y_test, history):\n",
    "    \"\"\"Evaluate model performance\"\"\"\n",
    "    \n",
    "    # Test accuracy\n",
    "    loss, accuracy = model.evaluate(X_test, y_test, verbose=0)\n",
    "    print(f\"\\nMODEL PERFORMANCE\")\n",
    "    print(\"-\" * 30)\n",
    "    print(f\"Test Accuracy: {accuracy:.4f} ({accuracy*100:.2f}%)\")\n",
    "    print(f\"Test Loss: {loss:.4f}\")\n",
    "    \n",
    "    # Training visualization\n",
    "    plt.figure(figsize=(12, 4))\n",
    "    \n",
    "    plt.subplot(1, 2, 1)\n",
    "    plt.plot(history.history['accuracy'], label='Training Accuracy', marker='o')\n",
    "    plt.plot(history.history['val_accuracy'], label='Validation Accuracy', marker='s')\n",
    "    plt.title('Model Accuracy')\n",
    "    plt.xlabel('Epoch')\n",
    "    plt.ylabel('Accuracy')\n",
    "    plt.legend()\n",
    "    plt.grid(True)\n",
    "    \n",
    "    plt.subplot(1, 2, 2)\n",
    "    plt.plot(history.history['loss'], label='Training Loss', marker='o')\n",
    "    plt.plot(history.history['val_loss'], label='Validation Loss', marker='s')\n",
    "    plt.title('Model Loss')\n",
    "    plt.xlabel('Epoch')\n",
    "    plt.ylabel('Loss')\n",
    "    plt.legend()\n",
    "    plt.grid(True)\n",
    "    \n",
    "    plt.tight_layout()\n",
    "    plt.show()\n",
    "    \n",
    "    return accuracy\n",
    "\n",
    "final_accuracy = evaluate_model(model, X_test, y_test, history)"
   ]
  },
  {
   "cell_type": "markdown",
   "id": "40f034f6",
   "metadata": {
    "papermill": {
     "duration": 0.080503,
     "end_time": "2025-08-30T05:44:52.965856",
     "exception": false,
     "start_time": "2025-08-30T05:44:52.885353",
     "status": "completed"
    },
    "tags": []
   },
   "source": [
    "## PREDICTION SYSTEM"
   ]
  },
  {
   "cell_type": "code",
   "execution_count": 10,
   "id": "09b7cb44",
   "metadata": {
    "execution": {
     "iopub.execute_input": "2025-08-30T05:44:53.127032Z",
     "iopub.status.busy": "2025-08-30T05:44:53.126748Z",
     "iopub.status.idle": "2025-08-30T05:44:54.462967Z",
     "shell.execute_reply": "2025-08-30T05:44:54.461995Z"
    },
    "papermill": {
     "duration": 1.418926,
     "end_time": "2025-08-30T05:44:54.464265",
     "exception": false,
     "start_time": "2025-08-30T05:44:53.045339",
     "status": "completed"
    },
    "tags": []
   },
   "outputs": [
    {
     "name": "stdout",
     "output_type": "stream",
     "text": [
      "\n",
      "PREDICTION EXAMPLES\n",
      "========================================\n",
      "\n",
      "1. Review: \"The movie was fantastic! I really loved it.\"\n",
      "   Prediction: Positive (Confidence: 94.24%)\n",
      "\n",
      "2. Review: \"The movie was not that good. I expected more.\"\n",
      "   Prediction: Positive (Confidence: 55.66%)\n",
      "\n",
      "3. Review: \"Amazing storyline with incredible special effects!\"\n",
      "   Prediction: Positive (Confidence: 88.87%)\n",
      "\n",
      "4. Review: \"Boring and poorly acted. Complete waste of time.\"\n",
      "   Prediction: Negative (Confidence: 98.61%)\n",
      "\n",
      "5. Review: \"Decent movie, worth watching once.\"\n",
      "   Prediction: Positive (Confidence: 59.58%)\n"
     ]
    }
   ],
   "source": [
    "def predict_sentiment(text):\n",
    "    \"\"\"Predict sentiment of a review\"\"\"\n",
    "    sequence = tokenizer.texts_to_sequences([text])\n",
    "    padded = pad_sequences(sequence, maxlen=200)\n",
    "    prediction = model.predict(padded, verbose=0)[0][0]\n",
    "    \n",
    "    if prediction >= 0.5:\n",
    "        return \"Positive\", prediction\n",
    "    else:\n",
    "        return \"Negative\", 1 - prediction\n",
    "\n",
    "# Test predictions\n",
    "print(f\"\\nPREDICTION EXAMPLES\")\n",
    "print(\"=\" * 40)\n",
    "\n",
    "sample_reviews = [\n",
    "    \"The movie was fantastic! I really loved it.\",\n",
    "    \"The movie was not that good. I expected more.\",\n",
    "    \"Amazing storyline with incredible special effects!\",\n",
    "    \"Boring and poorly acted. Complete waste of time.\",\n",
    "    \"Decent movie, worth watching once.\"\n",
    "]\n",
    "\n",
    "for i, review in enumerate(sample_reviews, 1):\n",
    "    sentiment, confidence = predict_sentiment(review)\n",
    "    print(f\"\\n{i}. Review: \\\"{review}\\\"\")\n",
    "    print(f\"   Prediction: {sentiment} (Confidence: {confidence:.2%})\")"
   ]
  },
  {
   "cell_type": "markdown",
   "id": "f3da54bd",
   "metadata": {
    "papermill": {
     "duration": 0.078596,
     "end_time": "2025-08-30T05:44:54.648671",
     "exception": false,
     "start_time": "2025-08-30T05:44:54.570075",
     "status": "completed"
    },
    "tags": []
   },
   "source": [
    "## CONCLUSION\n",
    "* This movie sentiment analysis project successfully demonstrates how deep learning\n",
    "can understand human emotions in text. Key achievements include:\n",
    "\n",
    "##### RESULTS SUMMARY:\n",
    "- Built an LSTM neural network for sentiment classification\n",
    "- Achieved {final_accuracy:.2%} accuracy on IMDB movie reviews\n",
    "- Created a working prediction system for real-time analysis\n",
    "- Demonstrated practical applications in entertainment industry\n",
    "\n",
    "##### TECHNICAL SUCCESS:\n",
    "The LSTM model effectively learned to distinguish between positive and negative\n",
    "movie reviews by understanding the sequential nature of language and context.\n",
    "This shows the power of artificial intelligence in natural language processing.\n",
    "\n",
    "##### BUSINESS VALUE:\n",
    "This technology can help movie studios understand audience reactions, streaming\n",
    "platforms improve recommendations, and marketers analyze customer sentiment\n",
    "at scale - providing valuable insights for business decision-making.\n",
    "\n",
    "##### FUTURE POTENTIAL:\n",
    "The model can be enhanced with more advanced architectures, expanded to analyze\n",
    "different types of content, or integrated into web applications for public use.\n",
    "This represents just the beginning of AI-powered sentiment analysis capabilities."
   ]
  }
 ],
 "metadata": {
  "kaggle": {
   "accelerator": "nvidiaTeslaT4",
   "dataSources": [
    {
     "datasetId": 134715,
     "sourceId": 320111,
     "sourceType": "datasetVersion"
    }
   ],
   "dockerImageVersionId": 31090,
   "isGpuEnabled": true,
   "isInternetEnabled": true,
   "language": "python",
   "sourceType": "notebook"
  },
  "kernelspec": {
   "display_name": "Python 3",
   "language": "python",
   "name": "python3"
  },
  "language_info": {
   "codemirror_mode": {
    "name": "ipython",
    "version": 3
   },
   "file_extension": ".py",
   "mimetype": "text/x-python",
   "name": "python",
   "nbconvert_exporter": "python",
   "pygments_lexer": "ipython3",
   "version": "3.11.13"
  },
  "papermill": {
   "default_parameters": {},
   "duration": 719.501788,
   "end_time": "2025-08-30T05:44:58.415249",
   "environment_variables": {},
   "exception": null,
   "input_path": "__notebook__.ipynb",
   "output_path": "__notebook__.ipynb",
   "parameters": {},
   "start_time": "2025-08-30T05:32:58.913461",
   "version": "2.6.0"
  }
 },
 "nbformat": 4,
 "nbformat_minor": 5
}
