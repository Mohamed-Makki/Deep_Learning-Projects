{
 "cells": [
  {
   "cell_type": "markdown",
   "id": "9cd51a0c",
   "metadata": {
    "papermill": {
     "duration": 0.003667,
     "end_time": "2025-09-11T06:41:35.770848",
     "exception": false,
     "start_time": "2025-09-11T06:41:35.767181",
     "status": "completed"
    },
    "tags": []
   },
   "source": [
    "## INTRODUCTION\n",
    "- A machine learning project to automatically detect Capuchin bird calls in forest recordings using Deep Learning and audio signal processing.\n",
    "- Dataset: Capuchin bird audio clips + forest background sounds.\n",
    "- Method: CNN with Spectrogram analysis."
   ]
  },
  {
   "cell_type": "code",
   "execution_count": 1,
   "id": "5b1456bd",
   "metadata": {
    "execution": {
     "iopub.execute_input": "2025-09-11T06:41:35.777780Z",
     "iopub.status.busy": "2025-09-11T06:41:35.777444Z",
     "iopub.status.idle": "2025-09-11T06:41:58.359185Z",
     "shell.execute_reply": "2025-09-11T06:41:58.358303Z"
    },
    "papermill": {
     "duration": 22.586881,
     "end_time": "2025-09-11T06:41:58.360841",
     "exception": false,
     "start_time": "2025-09-11T06:41:35.773960",
     "status": "completed"
    },
    "tags": []
   },
   "outputs": [
    {
     "name": "stderr",
     "output_type": "stream",
     "text": [
      "2025-09-11 06:41:38.899569: E external/local_xla/xla/stream_executor/cuda/cuda_fft.cc:477] Unable to register cuFFT factory: Attempting to register factory for plugin cuFFT when one has already been registered\n",
      "WARNING: All log messages before absl::InitializeLog() is called are written to STDERR\n",
      "E0000 00:00:1757572899.273389      19 cuda_dnn.cc:8310] Unable to register cuDNN factory: Attempting to register factory for plugin cuDNN when one has already been registered\n",
      "E0000 00:00:1757572899.384018      19 cuda_blas.cc:1418] Unable to register cuBLAS factory: Attempting to register factory for plugin cuBLAS when one has already been registered\n"
     ]
    }
   ],
   "source": [
    "import os\n",
    "import csv\n",
    "import numpy as np\n",
    "import matplotlib.pyplot as plt\n",
    "import tensorflow as tf\n",
    "from tensorflow.keras.models import Sequential\n",
    "from tensorflow.keras.layers import Conv2D, Dense, Flatten, MaxPooling2D\n",
    "from tensorflow.keras.layers import GlobalAveragePooling2D\n",
    "from tensorflow.keras.metrics import Precision, Recall\n",
    "from itertools import groupby\n",
    "import librosa\n",
    "import warnings\n",
    "warnings.filterwarnings('ignore')"
   ]
  },
  {
   "cell_type": "markdown",
   "id": "da843b94",
   "metadata": {
    "papermill": {
     "duration": 0.002857,
     "end_time": "2025-09-11T06:41:58.367178",
     "exception": false,
     "start_time": "2025-09-11T06:41:58.364321",
     "status": "completed"
    },
    "tags": []
   },
   "source": [
    "## CONFIGURATION"
   ]
  },
  {
   "cell_type": "code",
   "execution_count": 2,
   "id": "6406bdc3",
   "metadata": {
    "execution": {
     "iopub.execute_input": "2025-09-11T06:41:58.374102Z",
     "iopub.status.busy": "2025-09-11T06:41:58.373638Z",
     "iopub.status.idle": "2025-09-11T06:41:58.377371Z",
     "shell.execute_reply": "2025-09-11T06:41:58.376869Z"
    },
    "papermill": {
     "duration": 0.008234,
     "end_time": "2025-09-11T06:41:58.378313",
     "exception": false,
     "start_time": "2025-09-11T06:41:58.370079",
     "status": "completed"
    },
    "tags": []
   },
   "outputs": [],
   "source": [
    "POSITIVE_PATH = '/kaggle/input/z-by-hp-unlocked-challenge-3-signal-processing/Parsed_Capuchinbird_Clips'\n",
    "NEGATIVE_PATH = '/kaggle/input/z-by-hp-unlocked-challenge-3-signal-processing/Parsed_Not_Capuchinbird_Clips'\n",
    "FOREST_PATH = '/kaggle/input/z-by-hp-unlocked-challenge-3-signal-processing/Forest Recordings'\n",
    "\n",
    "SAMPLE_RATE = 16000\n",
    "AUDIO_LENGTH = 48000\n",
    "BATCH_SIZE = 2\n",
    "EPOCHS = 5"
   ]
  },
  {
   "cell_type": "markdown",
   "id": "e0abf541",
   "metadata": {
    "papermill": {
     "duration": 0.002731,
     "end_time": "2025-09-11T06:41:58.384067",
     "exception": false,
     "start_time": "2025-09-11T06:41:58.381336",
     "status": "completed"
    },
    "tags": []
   },
   "source": [
    "## AUDIO PROCESSING"
   ]
  },
  {
   "cell_type": "code",
   "execution_count": 3,
   "id": "9e533011",
   "metadata": {
    "execution": {
     "iopub.execute_input": "2025-09-11T06:41:58.390573Z",
     "iopub.status.busy": "2025-09-11T06:41:58.390356Z",
     "iopub.status.idle": "2025-09-11T06:41:58.394718Z",
     "shell.execute_reply": "2025-09-11T06:41:58.394120Z"
    },
    "papermill": {
     "duration": 0.008797,
     "end_time": "2025-09-11T06:41:58.395781",
     "exception": false,
     "start_time": "2025-09-11T06:41:58.386984",
     "status": "completed"
    },
    "tags": []
   },
   "outputs": [],
   "source": [
    "def load_audio_file(filename):\n",
    "    \"\"\"Load single audio file using librosa\"\"\"\n",
    "    try:\n",
    "        audio, _ = librosa.load(filename, sr=SAMPLE_RATE, mono=True)\n",
    "        return audio\n",
    "    except Exception as e:\n",
    "        print(f\"Error loading {filename}: {e}\")\n",
    "        return np.zeros(AUDIO_LENGTH)"
   ]
  },
  {
   "cell_type": "code",
   "execution_count": 4,
   "id": "4d8a26a2",
   "metadata": {
    "execution": {
     "iopub.execute_input": "2025-09-11T06:41:58.402665Z",
     "iopub.status.busy": "2025-09-11T06:41:58.402455Z",
     "iopub.status.idle": "2025-09-11T06:41:58.406830Z",
     "shell.execute_reply": "2025-09-11T06:41:58.406262Z"
    },
    "papermill": {
     "duration": 0.009071,
     "end_time": "2025-09-11T06:41:58.407942",
     "exception": false,
     "start_time": "2025-09-11T06:41:58.398871",
     "status": "completed"
    },
    "tags": []
   },
   "outputs": [],
   "source": [
    "def audio_to_spectrogram(audio):\n",
    "    \"\"\"Convert audio to spectrogram using librosa\"\"\"\n",
    "    try:\n",
    "        \n",
    "        if len(audio) < AUDIO_LENGTH:\n",
    "            audio = np.pad(audio, (0, AUDIO_LENGTH - len(audio)))\n",
    "        else:\n",
    "            audio = audio[:AUDIO_LENGTH]\n",
    "        \n",
    "        \n",
    "        spec = librosa.stft(audio, hop_length=32, n_fft=320)\n",
    "        spec = np.abs(spec)\n",
    "        spec = np.expand_dims(spec, axis=2)\n",
    "        return spec\n",
    "    except Exception as e:\n",
    "        print(f\"Error creating spectrogram: {e}\")\n",
    "        return np.zeros((161, 1501, 1))"
   ]
  },
  {
   "cell_type": "markdown",
   "id": "28d11049",
   "metadata": {
    "papermill": {
     "duration": 0.002676,
     "end_time": "2025-09-11T06:41:58.413532",
     "exception": false,
     "start_time": "2025-09-11T06:41:58.410856",
     "status": "completed"
    },
    "tags": []
   },
   "source": [
    "## DATA PREPARATION"
   ]
  },
  {
   "cell_type": "code",
   "execution_count": 5,
   "id": "7b2f9ad1",
   "metadata": {
    "execution": {
     "iopub.execute_input": "2025-09-11T06:41:58.420101Z",
     "iopub.status.busy": "2025-09-11T06:41:58.419876Z",
     "iopub.status.idle": "2025-09-11T06:41:58.427903Z",
     "shell.execute_reply": "2025-09-11T06:41:58.427200Z"
    },
    "papermill": {
     "duration": 0.012573,
     "end_time": "2025-09-11T06:41:58.428964",
     "exception": false,
     "start_time": "2025-09-11T06:41:58.416391",
     "status": "completed"
    },
    "tags": []
   },
   "outputs": [],
   "source": [
    "def create_dataset():\n",
    "    \"\"\"Create training and testing datasets using numpy preprocessing\"\"\"\n",
    "    print(\"Creating dataset with numpy preprocessing...\")\n",
    "    \n",
    "    \n",
    "    if not os.path.exists(POSITIVE_PATH):\n",
    "        print(f\"POSITIVE_PATH does not exist: {POSITIVE_PATH}\")\n",
    "        return None, None, None, None\n",
    "    if not os.path.exists(NEGATIVE_PATH):\n",
    "        print(f\"NEGATIVE_PATH does not exist: {NEGATIVE_PATH}\")\n",
    "        return None, None, None, None\n",
    "    \n",
    "    \n",
    "    pos_files = [os.path.join(POSITIVE_PATH, f) for f in os.listdir(POSITIVE_PATH) if f.endswith('.wav')]\n",
    "    neg_files = [os.path.join(NEGATIVE_PATH, f) for f in os.listdir(NEGATIVE_PATH) if f.endswith('.wav')]\n",
    "    \n",
    "    print(f\"Files found: {len(pos_files)} positive, {len(neg_files)} negative\")\n",
    "    \n",
    "   \n",
    "    max_files_per_class = 100\n",
    "    pos_files = pos_files[:max_files_per_class]\n",
    "    neg_files = neg_files[:max_files_per_class]\n",
    "    \n",
    "    X = []\n",
    "    y = []\n",
    "    \n",
    "    print(\"Processing positive files...\")\n",
    "    for i, file_path in enumerate(pos_files):\n",
    "        if i % 10 == 0:\n",
    "            print(f\"Processing positive file {i+1}/{len(pos_files)}\")\n",
    "        \n",
    "        audio = load_audio_file(file_path)\n",
    "        if audio is not None:\n",
    "            spec = audio_to_spectrogram(audio)\n",
    "            X.append(spec)\n",
    "            y.append(1)\n",
    "    \n",
    "    print(\"Processing negative files...\")\n",
    "    for i, file_path in enumerate(neg_files):\n",
    "        if i % 10 == 0:\n",
    "            print(f\"Processing negative file {i+1}/{len(neg_files)}\")\n",
    "        \n",
    "        audio = load_audio_file(file_path)\n",
    "        if audio is not None:\n",
    "            spec = audio_to_spectrogram(audio)\n",
    "            X.append(spec)\n",
    "            y.append(0)\n",
    "    \n",
    "    \n",
    "    X = np.array(X, dtype=np.float32)\n",
    "    y = np.array(y, dtype=np.float32)\n",
    "    \n",
    "    print(f\"Final data shape: X={X.shape}, y={y.shape}\")\n",
    "    \n",
    "    \n",
    "    total_samples = len(X)\n",
    "    split_idx = int(0.8 * total_samples)\n",
    "    \n",
    "    \n",
    "    indices = np.random.permutation(total_samples)\n",
    "    X = X[indices]\n",
    "    y = y[indices]\n",
    "    \n",
    "    \n",
    "    X_train = X[:split_idx]\n",
    "    X_test = X[split_idx:]\n",
    "    y_train = y[:split_idx]\n",
    "    y_test = y[split_idx:]\n",
    "    \n",
    "    print(f\"Train set: X={X_train.shape}, y={y_train.shape}\")\n",
    "    print(f\"Test set: X={X_test.shape}, y={y_test.shape}\")\n",
    "    \n",
    "    return X_train, X_test, y_train, y_test"
   ]
  },
  {
   "cell_type": "markdown",
   "id": "a13e5f5b",
   "metadata": {
    "papermill": {
     "duration": 0.002614,
     "end_time": "2025-09-11T06:41:58.434438",
     "exception": false,
     "start_time": "2025-09-11T06:41:58.431824",
     "status": "completed"
    },
    "tags": []
   },
   "source": [
    "## MODEL AND TRAINING"
   ]
  },
  {
   "cell_type": "code",
   "execution_count": 6,
   "id": "babd68d0",
   "metadata": {
    "execution": {
     "iopub.execute_input": "2025-09-11T06:41:58.441602Z",
     "iopub.status.busy": "2025-09-11T06:41:58.441118Z",
     "iopub.status.idle": "2025-09-11T06:41:58.445316Z",
     "shell.execute_reply": "2025-09-11T06:41:58.444633Z"
    },
    "papermill": {
     "duration": 0.008443,
     "end_time": "2025-09-11T06:41:58.446349",
     "exception": false,
     "start_time": "2025-09-11T06:41:58.437906",
     "status": "completed"
    },
    "tags": []
   },
   "outputs": [],
   "source": [
    "def build_model(input_shape):\n",
    "    model = Sequential([\n",
    "        Conv2D(16, (3,3), activation='relu', input_shape=input_shape),\n",
    "        Conv2D(32, (3,3), activation='relu'),\n",
    "        GlobalAveragePooling2D(),\n",
    "        Dense(128, activation='relu'),\n",
    "        Dense(1, activation='sigmoid')\n",
    "    ])\n",
    "\n",
    "    model.compile(optimizer='Adam',\n",
    "                  loss='BinaryCrossentropy',\n",
    "                  metrics=['accuracy', Precision(name='precision'), Recall(name='recall')])\n",
    "    return model"
   ]
  },
  {
   "cell_type": "code",
   "execution_count": 7,
   "id": "448dd771",
   "metadata": {
    "execution": {
     "iopub.execute_input": "2025-09-11T06:41:58.453193Z",
     "iopub.status.busy": "2025-09-11T06:41:58.452582Z",
     "iopub.status.idle": "2025-09-11T06:41:58.458527Z",
     "shell.execute_reply": "2025-09-11T06:41:58.457863Z"
    },
    "papermill": {
     "duration": 0.010391,
     "end_time": "2025-09-11T06:41:58.459580",
     "exception": false,
     "start_time": "2025-09-11T06:41:58.449189",
     "status": "completed"
    },
    "tags": []
   },
   "outputs": [],
   "source": [
    "def train_model(model, X_train, X_test, y_train, y_test):\n",
    "    \"\"\"Train model using numpy arrays (with preprocessing fixes)\"\"\"\n",
    "    \n",
    "    \n",
    "    if len(X_train.shape) == 3:\n",
    "        X_train = np.expand_dims(X_train, -1)\n",
    "        X_test = np.expand_dims(X_test, -1)\n",
    "    \n",
    "    \n",
    "    X_train = X_train.astype('float32')\n",
    "    X_test = X_test.astype('float32')\n",
    "    y_train = y_train.astype('float32')\n",
    "    y_test = y_test.astype('float32')\n",
    "    \n",
    "    \n",
    "    history = model.fit(\n",
    "        X_train, y_train,\n",
    "        batch_size=BATCH_SIZE,\n",
    "        epochs=EPOCHS,\n",
    "        validation_data=(X_test, y_test),\n",
    "        verbose=1\n",
    "    )\n",
    "    \n",
    "   \n",
    "    plt.figure(figsize=(12, 4))\n",
    "    \n",
    "    # Loss\n",
    "    plt.subplot(1, 2, 1)\n",
    "    plt.plot(history.history['loss'], label='Train Loss')\n",
    "    plt.plot(history.history['val_loss'], label='Val Loss')\n",
    "    plt.legend()\n",
    "    plt.title('Loss')\n",
    "    plt.xlabel('Epoch')\n",
    "    plt.ylabel('Loss')\n",
    "    \n",
    "    # Accuracy\n",
    "    plt.subplot(1, 2, 2)\n",
    "    plt.plot(history.history['accuracy'], label='Train Acc')\n",
    "    plt.plot(history.history['val_accuracy'], label='Val Acc')\n",
    "    plt.legend()\n",
    "    plt.title('Accuracy')\n",
    "    plt.xlabel('Epoch')\n",
    "    plt.ylabel('Accuracy')\n",
    "    \n",
    "    plt.tight_layout()\n",
    "    plt.show()\n",
    "    \n",
    "    return history"
   ]
  },
  {
   "cell_type": "markdown",
   "id": "fc0c3c6d",
   "metadata": {
    "papermill": {
     "duration": 0.002673,
     "end_time": "2025-09-11T06:41:58.465213",
     "exception": false,
     "start_time": "2025-09-11T06:41:58.462540",
     "status": "completed"
    },
    "tags": []
   },
   "source": [
    "## FOREST ANALYSIS"
   ]
  },
  {
   "cell_type": "code",
   "execution_count": 8,
   "id": "81e3c953",
   "metadata": {
    "execution": {
     "iopub.execute_input": "2025-09-11T06:41:58.471760Z",
     "iopub.status.busy": "2025-09-11T06:41:58.471206Z",
     "iopub.status.idle": "2025-09-11T06:41:58.476393Z",
     "shell.execute_reply": "2025-09-11T06:41:58.475898Z"
    },
    "papermill": {
     "duration": 0.009451,
     "end_time": "2025-09-11T06:41:58.477357",
     "exception": false,
     "start_time": "2025-09-11T06:41:58.467906",
     "status": "completed"
    },
    "tags": []
   },
   "outputs": [],
   "source": [
    "def analyze_recording(filename, model):\n",
    "    \"\"\"Analyze forest recording for bird calls\"\"\"\n",
    "    try:\n",
    "        print(f\"Analyzing {filename}...\")\n",
    "        \n",
    "        \n",
    "        audio, _ = librosa.load(filename, sr=SAMPLE_RATE, mono=True)\n",
    "        \n",
    "        \n",
    "        num_windows = len(audio) // AUDIO_LENGTH\n",
    "        predictions = []\n",
    "        \n",
    "        for i in range(num_windows):\n",
    "            start = i * AUDIO_LENGTH\n",
    "            end = start + AUDIO_LENGTH\n",
    "            window = audio[start:end]\n",
    "            \n",
    "           \n",
    "            spec = audio_to_spectrogram(window)\n",
    "            spec = np.expand_dims(spec, axis=0)  # إضافة batch dimension\n",
    "            \n",
    "            \n",
    "            pred = model.predict(spec, verbose=0)[0][0]\n",
    "            predictions.append(1 if pred > 0.7 else 0)\n",
    "        \n",
    "        \n",
    "        grouped = [key for key, group in groupby(predictions)]\n",
    "        call_count = sum(grouped)\n",
    "        \n",
    "        return call_count\n",
    "        \n",
    "    except Exception as e:\n",
    "        print(f\"Error analyzing {filename}: {e}\")\n",
    "        return 0"
   ]
  },
  {
   "cell_type": "code",
   "execution_count": 9,
   "id": "a6b7cccb",
   "metadata": {
    "execution": {
     "iopub.execute_input": "2025-09-11T06:41:58.484026Z",
     "iopub.status.busy": "2025-09-11T06:41:58.483485Z",
     "iopub.status.idle": "2025-09-11T06:41:58.487410Z",
     "shell.execute_reply": "2025-09-11T06:41:58.486919Z"
    },
    "papermill": {
     "duration": 0.008251,
     "end_time": "2025-09-11T06:41:58.488457",
     "exception": false,
     "start_time": "2025-09-11T06:41:58.480206",
     "status": "completed"
    },
    "tags": []
   },
   "outputs": [],
   "source": [
    "def save_results(results):\n",
    "    \"\"\"Save results to CSV file\"\"\"\n",
    "    try:\n",
    "        with open('results.csv', 'w', newline='') as f:\n",
    "            writer = csv.writer(f)\n",
    "            writer.writerow(['Recording', 'Capuchin_Calls'])\n",
    "            for name, count in results.items():\n",
    "                writer.writerow([name, count])\n",
    "        print(\"Results saved to 'results.csv'\")\n",
    "    except Exception as e:\n",
    "        print(f\"Error saving results: {e}\")"
   ]
  },
  {
   "cell_type": "markdown",
   "id": "c5c6197b",
   "metadata": {
    "papermill": {
     "duration": 0.002819,
     "end_time": "2025-09-11T06:41:58.494273",
     "exception": false,
     "start_time": "2025-09-11T06:41:58.491454",
     "status": "completed"
    },
    "tags": []
   },
   "source": [
    "## MAIN EXECUTION"
   ]
  },
  {
   "cell_type": "code",
   "execution_count": 10,
   "id": "3ad2b6f0",
   "metadata": {
    "execution": {
     "iopub.execute_input": "2025-09-11T06:41:58.500829Z",
     "iopub.status.busy": "2025-09-11T06:41:58.500479Z",
     "iopub.status.idle": "2025-09-11T06:41:58.506392Z",
     "shell.execute_reply": "2025-09-11T06:41:58.505723Z"
    },
    "papermill": {
     "duration": 0.010357,
     "end_time": "2025-09-11T06:41:58.507430",
     "exception": false,
     "start_time": "2025-09-11T06:41:58.497073",
     "status": "completed"
    },
    "tags": []
   },
   "outputs": [],
   "source": [
    "def main():\n",
    "    \"\"\"Main execution function\"\"\"\n",
    "    print(\"Starting Bird Audio Classification...\")\n",
    "    \n",
    "    \n",
    "    X_train, X_test, y_train, y_test = create_dataset()\n",
    "    \n",
    "    if X_train is None:\n",
    "        print(\"Failed to create dataset. Check file paths.\")\n",
    "        return None\n",
    "    \n",
    "    \n",
    "    input_shape = X_train.shape[1:]  # (height, width, channels)\n",
    "    model = build_model(input_shape)\n",
    "    model.summary()\n",
    "    \n",
    "    \n",
    "    history = train_model(model, X_train, X_test, y_train, y_test)\n",
    "    \n",
    "    \n",
    "    results = model.evaluate(X_test, y_test, verbose=0)\n",
    "    metrics = dict(zip(model.metrics_names, results))\n",
    "    \n",
    "    print(\"\\nTest Results:\")\n",
    "    for name, value in metrics.items():\n",
    "        print(f\"{name}: {value:.3f}\")\n",
    "    \n",
    "   \n",
    "    if FOREST_PATH and os.path.exists(FOREST_PATH):\n",
    "        print(f\"\\nAnalyzing forest recordings...\")\n",
    "        results = {}\n",
    "        \n",
    "        \n",
    "        audio_files = [f for f in os.listdir(FOREST_PATH) \n",
    "                       if f.endswith(('.mp3', '.wav'))]\n",
    "        \n",
    "       \n",
    "        for filename in audio_files[:3]:\n",
    "            filepath = os.path.join(FOREST_PATH, filename)\n",
    "            calls = analyze_recording(filepath, model)\n",
    "            results[filename] = calls\n",
    "            print(f\"{filename}: {calls} calls detected\")\n",
    "        \n",
    "        \n",
    "        save_results(results)\n",
    "    else:\n",
    "        print(f\"Forest recordings path not found: {FOREST_PATH}\")\n",
    "    \n",
    "    print(\"\\nAnalysis completed successfully!\")\n",
    "    return model, history, metrics"
   ]
  },
  {
   "cell_type": "markdown",
   "id": "de388fcc",
   "metadata": {
    "papermill": {
     "duration": 0.002713,
     "end_time": "2025-09-11T06:41:58.512969",
     "exception": false,
     "start_time": "2025-09-11T06:41:58.510256",
     "status": "completed"
    },
    "tags": []
   },
   "source": [
    "## RUN THE PROJECT"
   ]
  },
  {
   "cell_type": "code",
   "execution_count": 11,
   "id": "53b23983",
   "metadata": {
    "execution": {
     "iopub.execute_input": "2025-09-11T06:41:58.519392Z",
     "iopub.status.busy": "2025-09-11T06:41:58.519021Z",
     "iopub.status.idle": "2025-09-11T06:42:59.467982Z",
     "shell.execute_reply": "2025-09-11T06:42:59.467065Z"
    },
    "papermill": {
     "duration": 60.953364,
     "end_time": "2025-09-11T06:42:59.469240",
     "exception": false,
     "start_time": "2025-09-11T06:41:58.515876",
     "status": "completed"
    },
    "tags": []
   },
   "outputs": [
    {
     "name": "stdout",
     "output_type": "stream",
     "text": [
      "Starting Bird Audio Classification...\n",
      "Creating dataset with numpy preprocessing...\n",
      "Files found: 217 positive, 593 negative\n",
      "Processing positive files...\n",
      "Processing positive file 1/100\n",
      "Processing positive file 11/100\n",
      "Processing positive file 21/100\n",
      "Processing positive file 31/100\n",
      "Processing positive file 41/100\n",
      "Processing positive file 51/100\n",
      "Processing positive file 61/100\n",
      "Processing positive file 71/100\n",
      "Processing positive file 81/100\n",
      "Processing positive file 91/100\n",
      "Processing negative files...\n",
      "Processing negative file 1/100\n",
      "Processing negative file 11/100\n",
      "Processing negative file 21/100\n",
      "Processing negative file 31/100\n",
      "Processing negative file 41/100\n",
      "Processing negative file 51/100\n",
      "Processing negative file 61/100\n",
      "Processing negative file 71/100\n",
      "Processing negative file 81/100\n",
      "Processing negative file 91/100\n",
      "Final data shape: X=(200, 161, 1501, 1), y=(200,)\n",
      "Train set: X=(160, 161, 1501, 1), y=(160,)\n",
      "Test set: X=(40, 161, 1501, 1), y=(40,)\n"
     ]
    },
    {
     "name": "stderr",
     "output_type": "stream",
     "text": [
      "I0000 00:00:1757572941.690117      19 gpu_device.cc:2022] Created device /job:localhost/replica:0/task:0/device:GPU:0 with 13942 MB memory:  -> device: 0, name: Tesla T4, pci bus id: 0000:00:04.0, compute capability: 7.5\n",
      "I0000 00:00:1757572941.690816      19 gpu_device.cc:2022] Created device /job:localhost/replica:0/task:0/device:GPU:1 with 13942 MB memory:  -> device: 1, name: Tesla T4, pci bus id: 0000:00:05.0, compute capability: 7.5\n"
     ]
    },
    {
     "data": {
      "text/html": [
       "<pre style=\"white-space:pre;overflow-x:auto;line-height:normal;font-family:Menlo,'DejaVu Sans Mono',consolas,'Courier New',monospace\"><span style=\"font-weight: bold\">Model: \"sequential\"</span>\n",
       "</pre>\n"
      ],
      "text/plain": [
       "\u001b[1mModel: \"sequential\"\u001b[0m\n"
      ]
     },
     "metadata": {},
     "output_type": "display_data"
    },
    {
     "data": {
      "text/html": [
       "<pre style=\"white-space:pre;overflow-x:auto;line-height:normal;font-family:Menlo,'DejaVu Sans Mono',consolas,'Courier New',monospace\">┏━━━━━━━━━━━━━━━━━━━━━━━━━━━━━━━━━┳━━━━━━━━━━━━━━━━━━━━━━━━┳━━━━━━━━━━━━━━━┓\n",
       "┃<span style=\"font-weight: bold\"> Layer (type)                    </span>┃<span style=\"font-weight: bold\"> Output Shape           </span>┃<span style=\"font-weight: bold\">       Param # </span>┃\n",
       "┡━━━━━━━━━━━━━━━━━━━━━━━━━━━━━━━━━╇━━━━━━━━━━━━━━━━━━━━━━━━╇━━━━━━━━━━━━━━━┩\n",
       "│ conv2d (<span style=\"color: #0087ff; text-decoration-color: #0087ff\">Conv2D</span>)                 │ (<span style=\"color: #00d7ff; text-decoration-color: #00d7ff\">None</span>, <span style=\"color: #00af00; text-decoration-color: #00af00\">159</span>, <span style=\"color: #00af00; text-decoration-color: #00af00\">1499</span>, <span style=\"color: #00af00; text-decoration-color: #00af00\">16</span>)  │           <span style=\"color: #00af00; text-decoration-color: #00af00\">160</span> │\n",
       "├─────────────────────────────────┼────────────────────────┼───────────────┤\n",
       "│ conv2d_1 (<span style=\"color: #0087ff; text-decoration-color: #0087ff\">Conv2D</span>)               │ (<span style=\"color: #00d7ff; text-decoration-color: #00d7ff\">None</span>, <span style=\"color: #00af00; text-decoration-color: #00af00\">157</span>, <span style=\"color: #00af00; text-decoration-color: #00af00\">1497</span>, <span style=\"color: #00af00; text-decoration-color: #00af00\">32</span>)  │         <span style=\"color: #00af00; text-decoration-color: #00af00\">4,640</span> │\n",
       "├─────────────────────────────────┼────────────────────────┼───────────────┤\n",
       "│ global_average_pooling2d        │ (<span style=\"color: #00d7ff; text-decoration-color: #00d7ff\">None</span>, <span style=\"color: #00af00; text-decoration-color: #00af00\">32</span>)             │             <span style=\"color: #00af00; text-decoration-color: #00af00\">0</span> │\n",
       "│ (<span style=\"color: #0087ff; text-decoration-color: #0087ff\">GlobalAveragePooling2D</span>)        │                        │               │\n",
       "├─────────────────────────────────┼────────────────────────┼───────────────┤\n",
       "│ dense (<span style=\"color: #0087ff; text-decoration-color: #0087ff\">Dense</span>)                   │ (<span style=\"color: #00d7ff; text-decoration-color: #00d7ff\">None</span>, <span style=\"color: #00af00; text-decoration-color: #00af00\">128</span>)            │         <span style=\"color: #00af00; text-decoration-color: #00af00\">4,224</span> │\n",
       "├─────────────────────────────────┼────────────────────────┼───────────────┤\n",
       "│ dense_1 (<span style=\"color: #0087ff; text-decoration-color: #0087ff\">Dense</span>)                 │ (<span style=\"color: #00d7ff; text-decoration-color: #00d7ff\">None</span>, <span style=\"color: #00af00; text-decoration-color: #00af00\">1</span>)              │           <span style=\"color: #00af00; text-decoration-color: #00af00\">129</span> │\n",
       "└─────────────────────────────────┴────────────────────────┴───────────────┘\n",
       "</pre>\n"
      ],
      "text/plain": [
       "┏━━━━━━━━━━━━━━━━━━━━━━━━━━━━━━━━━┳━━━━━━━━━━━━━━━━━━━━━━━━┳━━━━━━━━━━━━━━━┓\n",
       "┃\u001b[1m \u001b[0m\u001b[1mLayer (type)                   \u001b[0m\u001b[1m \u001b[0m┃\u001b[1m \u001b[0m\u001b[1mOutput Shape          \u001b[0m\u001b[1m \u001b[0m┃\u001b[1m \u001b[0m\u001b[1m      Param #\u001b[0m\u001b[1m \u001b[0m┃\n",
       "┡━━━━━━━━━━━━━━━━━━━━━━━━━━━━━━━━━╇━━━━━━━━━━━━━━━━━━━━━━━━╇━━━━━━━━━━━━━━━┩\n",
       "│ conv2d (\u001b[38;5;33mConv2D\u001b[0m)                 │ (\u001b[38;5;45mNone\u001b[0m, \u001b[38;5;34m159\u001b[0m, \u001b[38;5;34m1499\u001b[0m, \u001b[38;5;34m16\u001b[0m)  │           \u001b[38;5;34m160\u001b[0m │\n",
       "├─────────────────────────────────┼────────────────────────┼───────────────┤\n",
       "│ conv2d_1 (\u001b[38;5;33mConv2D\u001b[0m)               │ (\u001b[38;5;45mNone\u001b[0m, \u001b[38;5;34m157\u001b[0m, \u001b[38;5;34m1497\u001b[0m, \u001b[38;5;34m32\u001b[0m)  │         \u001b[38;5;34m4,640\u001b[0m │\n",
       "├─────────────────────────────────┼────────────────────────┼───────────────┤\n",
       "│ global_average_pooling2d        │ (\u001b[38;5;45mNone\u001b[0m, \u001b[38;5;34m32\u001b[0m)             │             \u001b[38;5;34m0\u001b[0m │\n",
       "│ (\u001b[38;5;33mGlobalAveragePooling2D\u001b[0m)        │                        │               │\n",
       "├─────────────────────────────────┼────────────────────────┼───────────────┤\n",
       "│ dense (\u001b[38;5;33mDense\u001b[0m)                   │ (\u001b[38;5;45mNone\u001b[0m, \u001b[38;5;34m128\u001b[0m)            │         \u001b[38;5;34m4,224\u001b[0m │\n",
       "├─────────────────────────────────┼────────────────────────┼───────────────┤\n",
       "│ dense_1 (\u001b[38;5;33mDense\u001b[0m)                 │ (\u001b[38;5;45mNone\u001b[0m, \u001b[38;5;34m1\u001b[0m)              │           \u001b[38;5;34m129\u001b[0m │\n",
       "└─────────────────────────────────┴────────────────────────┴───────────────┘\n"
      ]
     },
     "metadata": {},
     "output_type": "display_data"
    },
    {
     "data": {
      "text/html": [
       "<pre style=\"white-space:pre;overflow-x:auto;line-height:normal;font-family:Menlo,'DejaVu Sans Mono',consolas,'Courier New',monospace\"><span style=\"font-weight: bold\"> Total params: </span><span style=\"color: #00af00; text-decoration-color: #00af00\">9,153</span> (35.75 KB)\n",
       "</pre>\n"
      ],
      "text/plain": [
       "\u001b[1m Total params: \u001b[0m\u001b[38;5;34m9,153\u001b[0m (35.75 KB)\n"
      ]
     },
     "metadata": {},
     "output_type": "display_data"
    },
    {
     "data": {
      "text/html": [
       "<pre style=\"white-space:pre;overflow-x:auto;line-height:normal;font-family:Menlo,'DejaVu Sans Mono',consolas,'Courier New',monospace\"><span style=\"font-weight: bold\"> Trainable params: </span><span style=\"color: #00af00; text-decoration-color: #00af00\">9,153</span> (35.75 KB)\n",
       "</pre>\n"
      ],
      "text/plain": [
       "\u001b[1m Trainable params: \u001b[0m\u001b[38;5;34m9,153\u001b[0m (35.75 KB)\n"
      ]
     },
     "metadata": {},
     "output_type": "display_data"
    },
    {
     "data": {
      "text/html": [
       "<pre style=\"white-space:pre;overflow-x:auto;line-height:normal;font-family:Menlo,'DejaVu Sans Mono',consolas,'Courier New',monospace\"><span style=\"font-weight: bold\"> Non-trainable params: </span><span style=\"color: #00af00; text-decoration-color: #00af00\">0</span> (0.00 B)\n",
       "</pre>\n"
      ],
      "text/plain": [
       "\u001b[1m Non-trainable params: \u001b[0m\u001b[38;5;34m0\u001b[0m (0.00 B)\n"
      ]
     },
     "metadata": {},
     "output_type": "display_data"
    },
    {
     "name": "stdout",
     "output_type": "stream",
     "text": [
      "Epoch 1/5\n"
     ]
    },
    {
     "name": "stderr",
     "output_type": "stream",
     "text": [
      "WARNING: All log messages before absl::InitializeLog() is called are written to STDERR\n",
      "I0000 00:00:1757572946.161967      71 service.cc:148] XLA service 0x7b7344004950 initialized for platform CUDA (this does not guarantee that XLA will be used). Devices:\n",
      "I0000 00:00:1757572946.163490      71 service.cc:156]   StreamExecutor device (0): Tesla T4, Compute Capability 7.5\n",
      "I0000 00:00:1757572946.163509      71 service.cc:156]   StreamExecutor device (1): Tesla T4, Compute Capability 7.5\n",
      "I0000 00:00:1757572946.544983      71 cuda_dnn.cc:529] Loaded cuDNN version 90300\n"
     ]
    },
    {
     "name": "stdout",
     "output_type": "stream",
     "text": [
      "\u001b[1m16/80\u001b[0m \u001b[32m━━━━\u001b[0m\u001b[37m━━━━━━━━━━━━━━━━\u001b[0m \u001b[1m0s\u001b[0m 11ms/step - accuracy: 0.5393 - loss: 0.6909 - precision: 0.5393 - recall: 1.0000"
     ]
    },
    {
     "name": "stderr",
     "output_type": "stream",
     "text": [
      "I0000 00:00:1757572950.083421      71 device_compiler.h:188] Compiled cluster using XLA!  This line is logged at most once for the lifetime of the process.\n"
     ]
    },
    {
     "name": "stdout",
     "output_type": "stream",
     "text": [
      "\u001b[1m80/80\u001b[0m \u001b[32m━━━━━━━━━━━━━━━━━━━━\u001b[0m\u001b[37m\u001b[0m \u001b[1m8s\u001b[0m 29ms/step - accuracy: 0.5335 - loss: 0.6671 - precision: 0.5091 - recall: 0.9846 - val_accuracy: 0.5250 - val_loss: 0.5897 - val_precision: 0.5000 - val_recall: 0.8947\n",
      "Epoch 2/5\n",
      "\u001b[1m80/80\u001b[0m \u001b[32m━━━━━━━━━━━━━━━━━━━━\u001b[0m\u001b[37m\u001b[0m \u001b[1m1s\u001b[0m 12ms/step - accuracy: 0.6254 - loss: 0.5537 - precision: 0.5950 - recall: 0.8884 - val_accuracy: 0.8500 - val_loss: 0.5301 - val_precision: 1.0000 - val_recall: 0.6842\n",
      "Epoch 3/5\n",
      "\u001b[1m80/80\u001b[0m \u001b[32m━━━━━━━━━━━━━━━━━━━━\u001b[0m\u001b[37m\u001b[0m \u001b[1m1s\u001b[0m 12ms/step - accuracy: 0.7292 - loss: 0.5114 - precision: 0.7860 - recall: 0.6665 - val_accuracy: 0.7000 - val_loss: 0.4691 - val_precision: 0.6522 - val_recall: 0.7895\n",
      "Epoch 4/5\n",
      "\u001b[1m80/80\u001b[0m \u001b[32m━━━━━━━━━━━━━━━━━━━━\u001b[0m\u001b[37m\u001b[0m \u001b[1m1s\u001b[0m 12ms/step - accuracy: 0.7567 - loss: 0.4832 - precision: 0.7502 - recall: 0.7750 - val_accuracy: 0.8750 - val_loss: 0.4024 - val_precision: 1.0000 - val_recall: 0.7368\n",
      "Epoch 5/5\n",
      "\u001b[1m80/80\u001b[0m \u001b[32m━━━━━━━━━━━━━━━━━━━━\u001b[0m\u001b[37m\u001b[0m \u001b[1m1s\u001b[0m 12ms/step - accuracy: 0.8194 - loss: 0.3884 - precision: 0.8925 - recall: 0.7035 - val_accuracy: 0.8750 - val_loss: 0.3960 - val_precision: 1.0000 - val_recall: 0.7368\n"
     ]
    },
    {
     "data": {
      "image/png": "[encoded data removed]",
      "text/plain": [
       "<Figure size 1200x400 with 2 Axes>"
      ]
     },
     "metadata": {},
     "output_type": "display_data"
    },
    {
     "name": "stdout",
     "output_type": "stream",
     "text": [
      "\n",
      "Test Results:\n",
      "loss: 0.396\n",
      "compile_metrics: 0.875\n",
      "\n",
      "Analyzing forest recordings...\n",
      "Analyzing /kaggle/input/z-by-hp-unlocked-challenge-3-signal-processing/Forest Recordings/recording_76.mp3...\n",
      "recording_76.mp3: 6 calls detected\n",
      "Analyzing /kaggle/input/z-by-hp-unlocked-challenge-3-signal-processing/Forest Recordings/recording_62.mp3...\n",
      "recording_62.mp3: 1 calls detected\n",
      "Analyzing /kaggle/input/z-by-hp-unlocked-challenge-3-signal-processing/Forest Recordings/recording_48.mp3...\n",
      "recording_48.mp3: 4 calls detected\n",
      "Results saved to 'results.csv'\n",
      "\n",
      "Analysis completed successfully!\n"
     ]
    }
   ],
   "source": [
    "if __name__ == \"__main__\":\n",
    "    model = main()"
   ]
  },
  {
   "cell_type": "markdown",
   "id": "beaf47da",
   "metadata": {
    "papermill": {
     "duration": 0.008775,
     "end_time": "2025-09-11T06:42:59.488010",
     "exception": false,
     "start_time": "2025-09-11T06:42:59.479235",
     "status": "completed"
    },
    "tags": []
   },
   "source": [
    "## CONCLUSION\n",
    "- Successfully developed an AI system that automatically detects toxic comments\n",
    "- with high accuracy. The model processes text data using NLP techniques and\n",
    "- neural networks to classify harmful content effectively.\n",
    "\n",
    "#### KEY ACHIEVEMENTS:\n",
    "-  Built and trained a deep learning model for toxicity detection\n",
    "-  Achieved excellent performance on comment classification\n",
    "-  Created an automated solution for content moderation\n",
    "-  Demonstrated practical AI application for online safety\n",
    "\n",
    "\n",
    " This project shows how machine learning can help create safer online spaces by automatically identifying harmful content before it affects users."
   ]
  }
 ],
 "metadata": {
  "kaggle": {
   "accelerator": "nvidiaTeslaT4",
   "dataSources": [
    {
     "datasetId": 1939154,
     "sourceId": 3194057,
     "sourceType": "datasetVersion"
    }
   ],
   "dockerImageVersionId": 31090,
   "isGpuEnabled": true,
   "isInternetEnabled": true,
   "language": "python",
   "sourceType": "notebook"
  },
  "kernelspec": {
   "display_name": "Python 3",
   "language": "python",
   "name": "python3"
  },
  "language_info": {
   "codemirror_mode": {
    "name": "ipython",
    "version": 3
   },
   "file_extension": ".py",
   "mimetype": "text/x-python",
   "name": "python",
   "nbconvert_exporter": "python",
   "pygments_lexer": "ipython3",
   "version": "3.11.13"
  },
  "papermill": {
   "default_parameters": {},
   "duration": 92.971859,
   "end_time": "2025-09-11T06:43:03.060473",
   "environment_variables": {},
   "exception": null,
   "input_path": "__notebook__.ipynb",
   "output_path": "__notebook__.ipynb",
   "parameters": {},
   "start_time": "2025-09-11T06:41:30.088614",
   "version": "2.6.0"
  }
 },
 "nbformat": 4,
 "nbformat_minor": 5
}
